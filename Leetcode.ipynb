{
 "cells": [
  {
   "cell_type": "code",
   "execution_count": 14,
   "metadata": {},
   "outputs": [
    {
     "data": {
      "text/plain": [
       "[[1, 2, 1], [2, 1], [1, 1], [1], [2, 1], [2], [1], []]"
      ]
     },
     "execution_count": 14,
     "metadata": {},
     "output_type": "execute_result"
    }
   ],
   "source": [
    "exemple = [1,2,1]\n",
    "\n",
    "def all_subsets(x):\n",
    "\n",
    "    res = []\n",
    "    stack = []\n",
    "    visited = set()\n",
    "\n",
    "    def backtrack(n):\n",
    "        # print(stack, n)\n",
    "        if n == len(x):\n",
    "            res.append(stack[:])\n",
    "        \n",
    "        if n < len(x):\n",
    "            stack.append(x[n])\n",
    "            backtrack(n+1)\n",
    "            visited.add(x[n])\n",
    "            stack.remove(x[n])\n",
    "            backtrack(n+1)\n",
    "        return\n",
    "    \n",
    "    backtrack(0)\n",
    "    return res\n",
    "\n",
    "all_subsets(exemple)"
   ]
  },
  {
   "cell_type": "code",
   "execution_count": 69,
   "metadata": {},
   "outputs": [
    {
     "name": "stdout",
     "output_type": "stream",
     "text": [
      "[3, 2, 1]\n",
      "[2, 3, 1]\n",
      "[1, 3, 2]\n",
      "[3, 1, 2]\n",
      "[2, 1, 3]\n",
      "[1, 2, 3]\n"
     ]
    }
   ],
   "source": [
    "exemple = [1,2,3]\n",
    "# find all permutation, with duplicates\n",
    "\n",
    "def all_permutation(x):\n",
    "    if len(x) == 1:\n",
    "        return [x[:]]\n",
    "    res = []\n",
    "    for i in range(len(x)):\n",
    "        n = x.pop(0)\n",
    "        perms = all_permutation(x)\n",
    "        for permu in perms:\n",
    "            permu.append(n)\n",
    "        res.extend(perms)\n",
    "        x.append(n)\n",
    "    return res\n"
   ]
  },
  {
   "cell_type": "code",
   "execution_count": 60,
   "metadata": {},
   "outputs": [
    {
     "data": {
      "text/plain": [
       "[1, 2, 3]"
      ]
     },
     "execution_count": 60,
     "metadata": {},
     "output_type": "execute_result"
    }
   ],
   "source": [
    "l1 = [i for i in range(4)]\n",
    "l1.pop(0)\n",
    "l1"
   ]
  },
  {
   "cell_type": "code",
   "execution_count": null,
   "metadata": {},
   "outputs": [],
   "source": [
    "# Find longest substring without repeating character \n",
    "\n",
    "\n",
    "exemple = 'abcabcbbdefghikl'\n",
    "\n",
    "def longest_substring(string):\n",
    "\n",
    "    \n",
    "    if len(string) == 0 or len(string) == 1:\n",
    "        return len(string)\n",
    "    \n",
    "    longest_sub = 1\n",
    "    current_max = 1\n",
    "\n",
    "    l, r = 0,1\n",
    "    while r < len(string) and l <= r:\n",
    "        if len(set(string[l:r+1])) == r-l +1:\n",
    "            current_max += 1\n",
    "            longest_sub = max(current_max, longest_sub)\n",
    "            r += 1\n",
    "        else:\n",
    "            while len(set(string[l:r+1])) < r-l +1:\n",
    "                l += 1\n",
    "                current_max -= 1\n",
    "\n",
    "    return longest_sub\n",
    "\n"
   ]
  },
  {
   "cell_type": "code",
   "execution_count": null,
   "metadata": {},
   "outputs": [
    {
     "data": {
      "text/plain": [
       "9"
      ]
     },
     "metadata": {},
     "output_type": "display_data"
    }
   ],
   "source": [
    "longest_substring(exemple)"
   ]
  },
  {
   "cell_type": "code",
   "execution_count": null,
   "metadata": {},
   "outputs": [],
   "source": [
    "def canfinish(n, prerequisite):\n",
    "\n",
    "    # first step create the dict\n",
    "    pre = {i:[] for i in range(n)}\n",
    "\n",
    "    # add the prerequisite\n",
    "    for x, y in prerequisite:\n",
    "        pre[y].append(x)\n",
    "\n",
    "    # now that it's created, we create dfs\n",
    "    VisitSet = set()\n",
    "\n",
    "    def dfs(crs):\n",
    "        if crs in VisitSet:\n",
    "            return False\n",
    "        if pre[crs] == []:\n",
    "            return True\n",
    "        \n",
    "        VisitSet.add(crs)\n",
    "        for ele in pre[crs]:\n",
    "            if not dfs(ele) : return False\n",
    "\n",
    "        VisitSet.remove(crs)\n",
    "        pre[crs] = []\n",
    "\n",
    "        return True\n",
    "    \n",
    "    for key in pre:\n",
    "        if not dfs(pre): return False\n",
    "        \n",
    "    return True\n"
   ]
  },
  {
   "cell_type": "code",
   "execution_count": 16,
   "metadata": {},
   "outputs": [],
   "source": [
    "def generate_parenthesis(n):\n",
    "\n",
    "    stack = []\n",
    "    res = []\n",
    "\n",
    "    def backtrack(openN, closeN):\n",
    "        if openN == closeN == n:\n",
    "            res.append(\"\".join(stack))\n",
    "            return\n",
    "\n",
    "        if openN < n:\n",
    "            stack.append(\"(\")\n",
    "            backtrack(openN + 1, closeN)\n",
    "            stack.pop()\n",
    "        \n",
    "        if closeN < openN:\n",
    "            stack.append(\")\")\n",
    "            backtrack(openN, closeN + 1)\n",
    "            stack.pop()\n",
    "    \n",
    "    backtrack(0,0)\n",
    "\n",
    "    return res"
   ]
  },
  {
   "cell_type": "code",
   "execution_count": 20,
   "metadata": {},
   "outputs": [
    {
     "data": {
      "text/plain": [
       "['(((())))',\n",
       " '((()()))',\n",
       " '((())())',\n",
       " '((()))()',\n",
       " '(()(()))',\n",
       " '(()()())',\n",
       " '(()())()',\n",
       " '(())(())',\n",
       " '(())()()',\n",
       " '()((()))',\n",
       " '()(()())',\n",
       " '()(())()',\n",
       " '()()(())',\n",
       " '()()()()']"
      ]
     },
     "execution_count": 20,
     "metadata": {},
     "output_type": "execute_result"
    }
   ],
   "source": [
    "generate_parenthesis(4)"
   ]
  },
  {
   "cell_type": "markdown",
   "metadata": {},
   "source": [
    "## Maximum contiguous sub array"
   ]
  },
  {
   "cell_type": "code",
   "execution_count": 1,
   "metadata": {},
   "outputs": [
    {
     "data": {
      "text/plain": [
       "15"
      ]
     },
     "execution_count": 1,
     "metadata": {},
     "output_type": "execute_result"
    }
   ],
   "source": [
    "exemple =  [3,-1,6,-3, 2,7,-8,9]\n",
    "\n",
    "def max_contiguous_sum(arr):\n",
    "    cumSum = 0\n",
    "    MaxSum = arr[0]\n",
    "\n",
    "    for n in arr:\n",
    "        if cumSum < 0:\n",
    "            cumSum = 0\n",
    "        cumSum += n\n",
    "        MaxSum = max(MaxSum, cumSum)\n",
    "\n",
    "    return MaxSum\n",
    "\n",
    "max_contiguous_sum(exemple)"
   ]
  },
  {
   "cell_type": "code",
   "execution_count": 4,
   "metadata": {},
   "outputs": [],
   "source": [
    "def houseRobber(arr):\n",
    "    return\n",
    "\n",
    "\n",
    "exemple = [1,2,3,4]\n",
    "\n",
    "houseRobber(exemple)"
   ]
  },
  {
   "cell_type": "code",
   "execution_count": 5,
   "metadata": {},
   "outputs": [
    {
     "data": {
      "text/plain": [
       "4"
      ]
     },
     "execution_count": 5,
     "metadata": {},
     "output_type": "execute_result"
    }
   ],
   "source": [
    "exemple.pop()"
   ]
  },
  {
   "cell_type": "code",
   "execution_count": null,
   "metadata": {},
   "outputs": [],
   "source": [
    "# reversing a link list:\n",
    "prev = None\n",
    "while slow:\n",
    "    tmp = slow.next\n",
    "    slow.next = prev\n",
    "    prev = slow\n",
    "    slow = tmp\n"
   ]
  },
  {
   "cell_type": "code",
   "execution_count": null,
   "metadata": {},
   "outputs": [],
   "source": [
    "def merge_two_binarytree(root1, root2):\n",
    "    if root1 and root2 is None:\n",
    "        return None\n",
    "    \n",
    "    val1 = root1.val if root1 else 0\n",
    "    val2 = root2.val if root2 else 0\n",
    "\n",
    "    root.val = val1 + val2\n",
    "\n",
    "    root.left = merge_two_binarytree(root1 if root1 not Null else None, root2 if root2 not Null else None )\n",
    "    root.right = merge_two_binarytree(root1 if root1 not Null else None, root2 if root2 not Null else None )\n",
    "\n",
    "    return root\n"
   ]
  }
 ],
 "metadata": {
  "kernelspec": {
   "display_name": "base",
   "language": "python",
   "name": "python3"
  },
  "language_info": {
   "codemirror_mode": {
    "name": "ipython",
    "version": 3
   },
   "file_extension": ".py",
   "mimetype": "text/x-python",
   "name": "python",
   "nbconvert_exporter": "python",
   "pygments_lexer": "ipython3",
   "version": "3.10.8"
  }
 },
 "nbformat": 4,
 "nbformat_minor": 2
}
