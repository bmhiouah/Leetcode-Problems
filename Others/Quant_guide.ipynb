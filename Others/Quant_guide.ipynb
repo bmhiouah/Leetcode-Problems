{
 "cells": [
  {
   "cell_type": "code",
   "execution_count": 9,
   "metadata": {},
   "outputs": [
    {
     "name": "stdout",
     "output_type": "stream",
     "text": [
      "i=1 et  2**i=2 : 0.6666666666666666\n",
      "i=2 et  2**i=4 : 0.8571428571428571\n",
      "i=3 et  2**i=8 : 0.9333333333333333\n",
      "i=4 et  2**i=16 : 0.967741935483871\n",
      "i=5 et  2**i=32 : 0.9841269841269841\n",
      "i=6 et  2**i=64 : 0.9921259842519685\n",
      "i=7 et  2**i=128 : 0.996078431372549\n",
      "i=8 et  2**i=256 : 0.9980430528375733\n",
      "i=9 et  2**i=512 : 0.9990224828934506\n"
     ]
    }
   ],
   "source": [
    "def next_element(A, i):\n",
    "    return A*(2**(i+1)-2)/(2**(i+1)-1)\n",
    "\n",
    "A = 1\n",
    "for i in range(1,10):\n",
    "    print(f\"i={i} et  2**i={2**i} : {next_element(A, i)}\")\n"
   ]
  },
  {
   "cell_type": "code",
   "execution_count": 11,
   "metadata": {},
   "outputs": [
    {
     "name": "stdout",
     "output_type": "stream",
     "text": [
      "Sequence Formula:\n",
      "2*A*(2**i - 1)/(2**(i + 1) - 1)\n",
      "Sequence Value:\n",
      "126/127\n"
     ]
    }
   ],
   "source": [
    "import sympy as sp\n",
    "\n",
    "def next_element(A, i):\n",
    "    return A * (2**(i+1) - 2) / (2**(i+1) - 1)\n",
    "\n",
    "A = sp.Symbol('A')  # Define A as a symbolic variable\n",
    "i = sp.Symbol('i')  # Define i as a symbolic variable\n",
    "\n",
    "# Define the sequence formula using sympy\n",
    "sequence_formula = next_element(A, i)\n",
    "\n",
    "# Use sympy to simplify the formula\n",
    "simplified_formula = sp.simplify(sequence_formula)\n",
    "\n",
    "# Print the simplified formula\n",
    "print(\"Sequence Formula:\")\n",
    "print(simplified_formula)\n",
    "\n",
    "# Evaluate the sequence formula for a specific value of A and i\n",
    "A_value = 1\n",
    "i_value = 6\n",
    "sequence_value = simplified_formula.subs({A: A_value, i: i_value})\n",
    "\n",
    "# Print the evaluated value of the sequence\n",
    "print(\"Sequence Value:\")\n",
    "print(sequence_value)"
   ]
  },
  {
   "cell_type": "code",
   "execution_count": 6,
   "metadata": {},
   "outputs": [
    {
     "name": "stdout",
     "output_type": "stream",
     "text": [
      "Probability of 7 in the final: 7.142857142861114e-05\n"
     ]
    }
   ],
   "source": [
    "import random\n",
    "from collections import defaultdict\n",
    "import math\n",
    "\n",
    "def round_tournament(players):\n",
    "    \"\"\"\n",
    "    Simulate a round of a chess tournament.\n",
    "    Players with higher ratings always win against lower-rated opponents.\n",
    "    \"\"\"\n",
    "    winners = defaultdict(int)  # Dictionary to store the winners of the round\n",
    "    My_keys = list(players.keys())  # List of players in the tournament\n",
    "    # Iterate over each pair of players in the tournament\n",
    "    for i in range(0, len(players), 2):  # Updated loop range to start from 1\n",
    "        player1 = players[My_keys[i]]\n",
    "        player2 = players[My_keys[i+1]]\n",
    "        if players[player1] > players[player2]:\n",
    "            winners[player1] = players[player1]  # Player 1 wins\n",
    "        else:\n",
    "            winners[player2] = players[player2]  # Player 2 wins\n",
    "\n",
    "    return winners\n",
    "\n",
    "def simulate_tournament(num_players):\n",
    "    \"\"\"\n",
    "    Simulate a chess tournament with random pairings for each round.\n",
    "    Players with higher ratings always win against lower-rated opponents.\n",
    "    \"\"\"\n",
    "    players = {i: i for i in range(1, num_players+1)}  # Dictionary of players with ratings ranging from 1 to num_players\n",
    "\n",
    "    # Iterate over each round of the tournament\n",
    "    for round in range(int(math.log(num_players, 2))-1):\n",
    "        # Convert dictionary to a list of key-value pairs\n",
    "        my_list = list(players.items())\n",
    "        # Shuffle the list\n",
    "        random.shuffle(my_list)\n",
    "        # Convert the list back to a dictionary\n",
    "        players = dict(my_list)\n",
    "        round_winners = round_tournament(players)  # Call round_tournament function to simulate a round of the tournament\n",
    "        players = round_winners  # Update players for the next round\n",
    "\n",
    "    return players\n",
    "\n",
    "# Number of players in the tournament\n",
    "num_players = 8\n",
    "\n",
    "num_simulations = 100000\n",
    "count = 0\n",
    "for _ in range(num_simulations):\n",
    "    finalists = simulate_tournament(num_players)\n",
    "    if num_players-1 in finalists:\n",
    "        count += 1\n",
    "\n",
    "print(f\"Probability of {num_players-1} in the final: {count/num_simulations - 4/7}\")\n",
    "\n",
    "# use plotly.express as px to plot the graph\n",
    "# in abcis, the number of iterations and in ordinate the value of the sequence\n",
    "\n",
    "import plotly.express as px\n",
    "\n"
   ]
  },
  {
   "cell_type": "code",
   "execution_count": 3,
   "metadata": {},
   "outputs": [
    {
     "data": {
      "text/plain": [
       "0.16317016317016317"
      ]
     },
     "execution_count": 3,
     "metadata": {},
     "output_type": "execute_result"
    }
   ],
   "source": [
    "\n",
    "probability = comb(10, 4) / comb(13, 5)\n",
    "probability\n"
   ]
  },
  {
   "cell_type": "code",
   "execution_count": 4,
   "metadata": {},
   "outputs": [
    {
     "data": {
      "text/plain": [
       "0.16317016317016317"
      ]
     },
     "execution_count": 4,
     "metadata": {},
     "output_type": "execute_result"
    }
   ],
   "source": [
    "70/429"
   ]
  },
  {
   "cell_type": "code",
   "execution_count": 9,
   "metadata": {},
   "outputs": [],
   "source": [
    "from sympy import Rational\n",
    "from math import comb, factorial\n",
    "\n",
    "# Calculate the numerator and denominator\n",
    "numerator = comb(43, 4) * factorial(3)* factorial(9)*4**3*factorial(39)\n",
    "denominator = factorial(52)\n",
    "\n",
    "# Convert to fractions using SymPy\n",
    "probability = Rational(numerator, denominator)"
   ]
  },
  {
   "cell_type": "code",
   "execution_count": 10,
   "metadata": {},
   "outputs": [
    {
     "data": {
      "text/latex": [
       "$\\displaystyle \\frac{2}{459884425}$"
      ],
      "text/plain": [
       "2/459884425"
      ]
     },
     "execution_count": 10,
     "metadata": {},
     "output_type": "execute_result"
    }
   ],
   "source": [
    "probability"
   ]
  },
  {
   "cell_type": "code",
   "execution_count": null,
   "metadata": {},
   "outputs": [
    {
     "name": "stdout",
     "output_type": "stream",
     "text": [
      "up {0} {0}\n",
      "up {1} {0}\n",
      "up {2} {0}\n",
      "down {3} {0}\n",
      "down {3} {1}\n",
      "down {3} {2}\n",
      "down {2} {0}\n",
      "up {2} {1}\n",
      "down {3} {1}\n",
      "down {3} {2}\n",
      "down {2} {1}\n",
      "up {2} {2}\n",
      "down {3} {2}\n",
      "down {1} {0}\n",
      "up {1} {1}\n",
      "up {2} {1}\n",
      "down {3} {1}\n",
      "down {3} {2}\n",
      "down {2} {1}\n",
      "up {2} {2}\n",
      "down {3} {2}\n"
     ]
    },
    {
     "data": {
      "text/plain": [
       "['((()))', '(()())', '(())()', '()(())', '()()()']"
      ]
     },
     "metadata": {},
     "output_type": "display_data"
    }
   ],
   "source": []
  },
  {
   "cell_type": "code",
   "execution_count": 1,
   "metadata": {},
   "outputs": [],
   "source": [
    "ls = 8,     7,     35,     36,     62,     65,"
   ]
  },
  {
   "cell_type": "code",
   "execution_count": 2,
   "metadata": {},
   "outputs": [
    {
     "name": "stdout",
     "output_type": "stream",
     "text": [
      "Prime factors of 8: {2: 3}\n",
      "Prime factors of 7: {7: 1}\n",
      "Prime factors of 35: {5: 1, 7: 1}\n",
      "Prime factors of 36: {2: 2, 3: 2}\n",
      "Prime factors of 62: {2: 1, 31: 1}\n",
      "Prime factors of 65: {5: 1, 13: 1}\n",
      "Check for linearity -1\n",
      "Check for linearity 28\n",
      "Check for linearity 1\n",
      "Check for linearity 26\n",
      "Check for linearity 3\n",
      "Check for evolution of linearity 29\n",
      "Check for evolution of linearity -27\n",
      "Check for evolution of linearity 25\n",
      "Check for evolution of linearity -23\n",
      "Check for fibonacci False\n",
      "Check for fibonacci False\n",
      "Check for fibonacci False\n",
      "Check for fibonacci False\n"
     ]
    }
   ],
   "source": [
    "from sympy import factorint\n",
    "\n",
    "linearity = []\n",
    "\n",
    "for ele in ls:\n",
    "    prime_factors = factorint(ele)\n",
    "    print(f\"Prime factors of {ele}: {prime_factors}\")\n",
    "\n",
    "for i in range(1,len(ls)):\n",
    "    print(\"Check for linearity\", ls[i]- ls[i-1])\n",
    "    linearity.append(ls[i]- ls[i-1])\n",
    "\n",
    "for i in range(1,len(linearity)):\n",
    "    print(\"Check for evolution of linearity\", linearity[i]- linearity[i-1])\n",
    "\n",
    "for i in range(1,len(ls)-1):\n",
    "    print(\"Check for fibonacci\", ls[i] + ls[i-1] == ls[i+1])"
   ]
  },
  {
   "cell_type": "code",
   "execution_count": 15,
   "metadata": {},
   "outputs": [
    {
     "name": "stdout",
     "output_type": "stream",
     "text": [
      "17500\n",
      "-3500\n",
      "700\n",
      "-140\n"
     ]
    }
   ],
   "source": [
    "for i in range(1,len(ls)):\n",
    "    print(ls[i]- ls[i-1])"
   ]
  },
  {
   "cell_type": "code",
   "execution_count": 16,
   "metadata": {},
   "outputs": [
    {
     "name": "stdout",
     "output_type": "stream",
     "text": [
      "2 3 5 7 11 13 17 19 23 29 31 37 41 43 47 53 59 61 67 71 73 79 83 89 97 "
     ]
    }
   ],
   "source": [
    "def is_prime(n):\n",
    "    if n < 2:\n",
    "        return False\n",
    "    for i in range(2, int(n**0.5)+1):\n",
    "        if n % i == 0:\n",
    "            return False\n",
    "    return True\n",
    "\n",
    "l = []\n",
    "for i in range(1,100):\n",
    "    if is_prime(i):\n",
    "        l += [i]\n",
    "\n",
    "for ele in l:\n",
    "    print(ele, end=\" \")\n"
   ]
  },
  {
   "cell_type": "code",
   "execution_count": 18,
   "metadata": {},
   "outputs": [
    {
     "data": {
      "text/plain": [
       "85"
      ]
     },
     "execution_count": 18,
     "metadata": {},
     "output_type": "execute_result"
    }
   ],
   "source": [
    "56+29"
   ]
  }
 ],
 "metadata": {
  "kernelspec": {
   "display_name": "Python 3",
   "language": "python",
   "name": "python3"
  },
  "language_info": {
   "codemirror_mode": {
    "name": "ipython",
    "version": 3
   },
   "file_extension": ".py",
   "mimetype": "text/x-python",
   "name": "python",
   "nbconvert_exporter": "python",
   "pygments_lexer": "ipython3",
   "version": "3.10.8"
  },
  "orig_nbformat": 4
 },
 "nbformat": 4,
 "nbformat_minor": 2
}
