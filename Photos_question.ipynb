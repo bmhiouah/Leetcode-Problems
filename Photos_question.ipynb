{
 "cells": [
  {
   "cell_type": "code",
   "execution_count": 2,
   "metadata": {},
   "outputs": [
    {
     "data": {
      "image/png": "[encoded data removed]",
      "text/plain": [
       "<Figure size 640x480 with 1 Axes>"
      ]
     },
     "metadata": {},
     "output_type": "display_data"
    }
   ],
   "source": [
    "import numpy as np\n",
    "# Strokes required picture\n",
    "\n",
    "import matplotlib.pyplot as plt\n",
    "# Example array of strings\n",
    "array = [\n",
    "    \"123\",\n",
    "    \"111\",\n",
    "    \"232\"\n",
    "]\n",
    "# Convert the array into a 2D numpy array\n",
    "matrix = np.array([list(row) for row in array])\n",
    "\n",
    "# Convert the array into a 2D numpy array\n",
    "plt.imshow(matrix.astype(float), cmap='hot', interpolation='nearest')\n",
    "\n",
    "# Show the plot\n",
    "plt.show()"
   ]
  },
  {
   "cell_type": "code",
   "execution_count": 8,
   "metadata": {},
   "outputs": [
    {
     "name": "stdout",
     "output_type": "stream",
     "text": [
      "[['a' 'a' 'b' 'b' 'a']\n",
      " ['a' 'a' 'b' 'b' 'a']\n",
      " ['a' 'a' 'a' 'c' 'b']\n",
      " ['a' 'a' 'b' 'b' 'a']\n",
      " ['a' 'a' 'b' 'b' 'a']\n",
      " ['a' 'a' 'a' 'c' 'b']]\n"
     ]
    },
    {
     "data": {
      "image/png": "[encoded data removed]",
      "text/plain": [
       "<Figure size 640x480 with 1 Axes>"
      ]
     },
     "metadata": {},
     "output_type": "display_data"
    }
   ],
   "source": [
    "number_colored = 0\n",
    "count_one = 0\n",
    "count_two = 0\n",
    "\n",
    "def Bucket_fill(matrix, x, y, old_color, new_color):\n",
    "    global count_one\n",
    "    global count_two\n",
    "    if matrix[x][y] != old_color:\n",
    "        count_one += 1 \n",
    "        return\n",
    "    matrix[x][y] = new_color\n",
    "    count_two += 1\n",
    "    if x < len(matrix) - 1:\n",
    "        Bucket_fill(matrix, x+1, y, old_color, new_color)\n",
    "    if y < len(matrix[0]) - 1:\n",
    "        Bucket_fill(matrix, x, y+1, old_color, new_color)\n",
    "    if x > 0:\n",
    "        Bucket_fill(matrix, x-1, y, old_color, new_color)\n",
    "    if y > 0:\n",
    "        Bucket_fill(matrix, x, y-1, old_color, new_color)\n",
    "\n",
    "\n",
    "\n",
    "# create a matrix of characters\n",
    "array = [\"aabba\", \"aabba\", \"aaacb\",\"aabba\", \"aabba\", \"aaacb\"]\n",
    "matrix = np.array([list(row) for row in array])\n",
    "\n",
    "print(matrix)\n",
    "\n",
    "color = 0\n",
    "for i in range(len(matrix)):\n",
    "    for j in range(len(matrix[0])):\n",
    "        if matrix[i][j] in {'a', 'b', 'c'}:\n",
    "            Bucket_fill(matrix, i, j, matrix[i][j], color)\n",
    "            color += 1\n",
    "            \n",
    "# Convert the array into a 2D numpy array\n",
    "plt.imshow(matrix.astype(float), cmap='hot', interpolation='nearest')\n",
    "\n",
    "# Show the plot\n",
    "plt.show()"
   ]
  },
  {
   "cell_type": "code",
   "execution_count": 9,
   "metadata": {},
   "outputs": [
    {
     "name": "stdout",
     "output_type": "stream",
     "text": [
      "9 77 30\n"
     ]
    }
   ],
   "source": [
    "print(color, count_one,count_two)"
   ]
  },
  {
   "cell_type": "code",
   "execution_count": 57,
   "metadata": {},
   "outputs": [
    {
     "name": "stdout",
     "output_type": "stream",
     "text": [
      "a\n",
      "as\n",
      "asd\n",
      "s\n",
      "d\n",
      "df\n",
      "f\n"
     ]
    }
   ],
   "source": [
    "# Extraordinary substrings\n",
    "\n",
    "my_string = \"asdf\"\n",
    "\n",
    "\n",
    "def extraordinary_substrings(my_string):\n",
    "\n",
    "    new_string = list(map(lambda x: ord(x) - 96, my_string))\n",
    "\n",
    "    for i in range(len(my_string)):\n",
    "        for j in range(i+1, len(my_string)+1):\n",
    "            if sum(new_string[i:j])%(j-i) == 0:\n",
    "                print(my_string[i:j])\n",
    "\n",
    "extraordinary_substrings(my_string)"
   ]
  },
  {
   "cell_type": "code",
   "execution_count": 18,
   "metadata": {},
   "outputs": [
    {
     "name": "stdout",
     "output_type": "stream",
     "text": [
      "5\n"
     ]
    }
   ],
   "source": [
    "def minimumswaps(arr):\n",
    "    n = len(arr)\n",
    "    swaps = 0\n",
    "    visited = [False] * len(arr)\n",
    "    for i in range(n):\n",
    "        if not visited[i]:\n",
    "            visited[i] = True\n",
    "            b = n - arr[i]\n",
    "            while i!=b:\n",
    "                visited[b] = True\n",
    "                b = n - arr[b]\n",
    "                swaps += 1\n",
    "    return swaps\n",
    "\n",
    "\n",
    "l = [3,4,1,2,5,6]\n",
    "\n",
    "print(minimumswaps(l)) # 3"
   ]
  },
  {
   "cell_type": "code",
   "execution_count": null,
   "metadata": {},
   "outputs": [
    {
     "name": "stdout",
     "output_type": "stream",
     "text": [
      "Counter({'sentence.': 1})\n"
     ]
    }
   ],
   "source": [
    "from collections import Counter\n",
    "\n",
    "sentences = \"This is a sample string of sentences. This is another sentence wow.\"\n",
    "# create a different sentence with the same words as the first\n",
    "sentences2 = \" This is a sample string of sentences. This is another sentence.\"\n",
    "\n",
    "# Create a dictionary with the count of each word in the string\n",
    "word_counts = Counter(sentences.split())\n",
    "word_counts2 = Counter(sentences2.split())\n",
    "\n",
    "# Subtract two dictionaries to get the difference\n",
    "difference = word_counts2 - word_counts\n",
    "\n",
    "print(difference)\n",
    " "
   ]
  }
 ],
 "metadata": {
  "kernelspec": {
   "display_name": "base",
   "language": "python",
   "name": "python3"
  },
  "language_info": {
   "codemirror_mode": {
    "name": "ipython",
    "version": 3
   },
   "file_extension": ".py",
   "mimetype": "text/x-python",
   "name": "python",
   "nbconvert_exporter": "python",
   "pygments_lexer": "ipython3",
   "version": "3.10.8"
  }
 },
 "nbformat": 4,
 "nbformat_minor": 2
}
