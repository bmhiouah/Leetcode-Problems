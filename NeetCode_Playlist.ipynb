{
 "cells": [
  {
   "cell_type": "markdown",
   "metadata": {},
   "source": [
    "# 1. 3SUM"
   ]
  },
  {
   "cell_type": "code",
   "execution_count": 372,
   "metadata": {},
   "outputs": [],
   "source": [
    "import numpy as np\n",
    "import heapq"
   ]
  },
  {
   "cell_type": "code",
   "execution_count": 49,
   "metadata": {},
   "outputs": [
    {
     "data": {
      "text/plain": [
       "[[-7, 3, 4], [-5, 1, 4], [-4, 1, 3]]"
      ]
     },
     "execution_count": 49,
     "metadata": {},
     "output_type": "execute_result"
    }
   ],
   "source": [
    "def threesum(nums):\n",
    "    nums.sort()\n",
    "    same = False\n",
    "    res = []\n",
    "    for i in range(len(nums)-2):\n",
    "        if same:\n",
    "            same = nums[i] == nums[i+1]\n",
    "            continue\n",
    "        same = nums[i] == nums[i+1]\n",
    "        l, r = i+1, len(nums)-1\n",
    "        while l < r:\n",
    "            sum = nums[i] + nums[l] + nums[r]\n",
    "            if sum == 0:\n",
    "                res.append([nums[i],nums[l],nums[r]])\n",
    "                r -= 1\n",
    "                while nums[r] == nums[r+1] and r > l:\n",
    "                    r-= 1\n",
    "            elif sum > 0:\n",
    "                r -= 1\n",
    "            elif sum < 0:\n",
    "                l+= 1\n",
    "\n",
    "    return res\n",
    "\n",
    "# three = 0 \n",
    "# i = 0 \n",
    "# while three < 5:\n",
    "#     i+= 1\n",
    "#     np.random.seed = i\n",
    "#     arr = np.random.randint(-10,10,size = 7).tolist()\n",
    "#     three = len(threesum(arr))\n",
    "\n",
    "# print(i, threesum(arr))\n",
    "\n",
    "arr = [-7,-7,-7, -5, -4, 1, 3, 4, 4]\n",
    "\n",
    "threesum(arr)\n",
    "\n"
   ]
  },
  {
   "cell_type": "markdown",
   "metadata": {},
   "source": [
    "# 31. Unique Binary Search Trees"
   ]
  },
  {
   "cell_type": "code",
   "execution_count": 50,
   "metadata": {},
   "outputs": [],
   "source": [
    "def nums_unique_BST(num : int):\n",
    "\n",
    "    memo = [1]*(num + 1)\n",
    "\n",
    "    for i in range(2,num+1):\n",
    "        sum = 0\n",
    "        for j in range(1,i+1):\n",
    "            sum += memo[j-1]*memo[i-j]\n",
    "        memo[i] = sum\n",
    "\n",
    "    return memo[-1]"
   ]
  },
  {
   "cell_type": "code",
   "execution_count": 53,
   "metadata": {},
   "outputs": [
    {
     "name": "stdout",
     "output_type": "stream",
     "text": [
      "1\n",
      "2\n",
      "5\n",
      "14\n",
      "42\n"
     ]
    }
   ],
   "source": [
    "for k in range(1,6):\n",
    "    print(nums_unique_BST(k))"
   ]
  },
  {
   "cell_type": "markdown",
   "metadata": {},
   "source": [
    "# 32. Siral Matrix"
   ]
  },
  {
   "cell_type": "code",
   "execution_count": 91,
   "metadata": {},
   "outputs": [],
   "source": [
    "class Matrix:\n",
    "    def __init__(self,n,m) -> list[list[int]]:\n",
    "        self.matrix = [[1 + i + m*j for i in range(m)] for j in range(n)]\n",
    "        \n",
    "    def __repr__(self):\n",
    "        rows = []\n",
    "        for row in self.matrix:\n",
    "            row_str = \"\"\n",
    "            for item in row:\n",
    "                row_str += str(item).ljust(4)  # Adjust the padding as needed\n",
    "            rows.append(row_str)\n",
    "        return \"\\n\".join(rows)\n"
   ]
  },
  {
   "cell_type": "code",
   "execution_count": 100,
   "metadata": {},
   "outputs": [
    {
     "data": {
      "text/plain": [
       "[1, 2, 4, 6, 8, 7, 5, 3]"
      ]
     },
     "execution_count": 100,
     "metadata": {},
     "output_type": "execute_result"
    }
   ],
   "source": [
    "def SpiralMatrtix(matrix):\n",
    "    n,m = len(matrix),len(matrix[0])\n",
    "    left, right = 0,m\n",
    "    top, bottom = 0,n\n",
    "    res = []\n",
    "    while top < bottom  and left < right:\n",
    "\n",
    "        for i in range(left,right):\n",
    "            res.append(matrix[top][i])\n",
    "        top += 1\n",
    "\n",
    "        for i in range(top,bottom):\n",
    "            res.append(matrix[i][right-1])\n",
    "        right -= 1\n",
    "\n",
    "        if not (top < bottom and left < right):\n",
    "            break\n",
    "\n",
    "        for i in range(right-1,left,-1):\n",
    "            res.append(matrix[bottom-1][i])\n",
    "        bottom -= 1\n",
    "\n",
    "        for i in range(bottom,top-1,-1):\n",
    "            res.append(matrix[i][left])\n",
    "        left += 1\n",
    "\n",
    "    return res\n",
    "\n",
    "SpiralMatrtix(Matrix(4,2).matrix)"
   ]
  },
  {
   "cell_type": "code",
   "execution_count": 96,
   "metadata": {},
   "outputs": [
    {
     "data": {
      "text/plain": [
       "1   2   \n",
       "3   4   \n",
       "5   6   \n",
       "7   8   "
      ]
     },
     "execution_count": 96,
     "metadata": {},
     "output_type": "execute_result"
    }
   ],
   "source": [
    "Matrix(4,2)"
   ]
  },
  {
   "cell_type": "code",
   "execution_count": 114,
   "metadata": {},
   "outputs": [
    {
     "name": "stdout",
     "output_type": "stream",
     "text": [
      "1   2   \n",
      "16  3   \n",
      "15  4   \n",
      "14  5   \n",
      "13  6   \n",
      "12  7   \n",
      "11  8   \n",
      "10  9   \n"
     ]
    }
   ],
   "source": [
    "def CreateSpiral(n,m):\n",
    "    arr = [i+1 for i in range(n*m)]\n",
    "    matrix = Matrix(n,m).matrix\n",
    "\n",
    "    left, right = 0,m\n",
    "    top, bottom = 0,n\n",
    "    k = 0\n",
    "    \n",
    "    while top < bottom  and left < right:\n",
    "\n",
    "        for i in range(left,right):\n",
    "            matrix[top][i] = arr[k]\n",
    "            k+=1\n",
    "        top += 1\n",
    "\n",
    "        for i in range(top,bottom):\n",
    "            matrix[i][right-1] = arr[k]\n",
    "            k+=1\n",
    "        right -= 1\n",
    "\n",
    "        if not (top < bottom and left < right):\n",
    "            break\n",
    "\n",
    "        for i in range(right-1,left,-1):\n",
    "            matrix[bottom-1][i] = arr[k]\n",
    "            k += 1\n",
    "        bottom -= 1\n",
    "\n",
    "        for i in range(bottom,top-1,-1):\n",
    "            matrix[i][left] = arr[k]\n",
    "            k += 1\n",
    "        left += 1\n",
    "\n",
    "    return matrix\n",
    "\n",
    "\n",
    "SpiralMatrtix(CreateSpiral(8,2))\n",
    "\n",
    "\n",
    "objet = Matrix(1,1)\n",
    "objet.matrix = CreateSpiral(8,2)\n",
    "print(objet)\n",
    "    "
   ]
  },
  {
   "cell_type": "markdown",
   "metadata": {},
   "source": [
    "# 33. Product of array except self"
   ]
  },
  {
   "cell_type": "code",
   "execution_count": 119,
   "metadata": {},
   "outputs": [
    {
     "data": {
      "text/plain": [
       "[24, 12, 8, 6]"
      ]
     },
     "execution_count": 119,
     "metadata": {},
     "output_type": "execute_result"
    }
   ],
   "source": [
    "def ProductExceptSelf(nums):\n",
    "    n = len(nums)\n",
    "    output = [1] * n\n",
    "\n",
    "    prefixe = 1\n",
    "    for i in range(n):\n",
    "        output[i] *= prefixe\n",
    "        prefixe *= nums[i]\n",
    "\n",
    "    suffixe = 1\n",
    "    for i in range(n-1,-1,-1):\n",
    "        output[i] *= suffixe\n",
    "        suffixe *= nums[i]\n",
    "\n",
    "    return output\n",
    "\n",
    "ProductExceptSelf([i for i in range(1,5)])\n",
    "\n"
   ]
  },
  {
   "cell_type": "markdown",
   "metadata": {},
   "source": [
    "# 34. Merge Intervals"
   ]
  },
  {
   "cell_type": "code",
   "execution_count": 121,
   "metadata": {},
   "outputs": [
    {
     "data": {
      "text/plain": [
       "[[1, 6], [8, 10], [15, 18]]"
      ]
     },
     "execution_count": 121,
     "metadata": {},
     "output_type": "execute_result"
    }
   ],
   "source": [
    "def merge(intervals):\n",
    "\n",
    "    intervals.sort(key = lambda x : x[0])\n",
    "    output = [intervals[0]]\n",
    "\n",
    "    for start, end in intervals:\n",
    "        LastEnd = output[-1][1]\n",
    "\n",
    "        if start <= LastEnd:\n",
    "            output[-1][1] = max(LastEnd,end)\n",
    "\n",
    "        else:\n",
    "            output.append([start,end])\n",
    "    return output\n",
    "\n",
    "    \n",
    "exemple = [[1,3],[2,6],[8,10],[15,18]]\n",
    "\n",
    "merge(exemple)"
   ]
  },
  {
   "cell_type": "markdown",
   "metadata": {},
   "source": [
    "# 35. House Robber II"
   ]
  },
  {
   "cell_type": "code",
   "execution_count": 126,
   "metadata": {},
   "outputs": [
    {
     "data": {
      "text/plain": [
       "20"
      ]
     },
     "execution_count": 126,
     "metadata": {},
     "output_type": "execute_result"
    }
   ],
   "source": [
    "def HouseRobberCircular(houses):\n",
    "\n",
    "    def HelperFunction(nums):\n",
    "        if len(nums) == 0:\n",
    "            return 0\n",
    "        \n",
    "        prev, next = 0, nums[0]\n",
    "\n",
    "        for ele in nums[1:]:\n",
    "\n",
    "            case1 = prev + ele\n",
    "            case2 = next\n",
    "\n",
    "            prev,next  = next, max(case1,case2)\n",
    "\n",
    "        return next\n",
    "    \n",
    "    return max(HelperFunction(houses[:-1]),HelperFunction(houses[1:]))\n",
    "\n",
    "\n",
    "\n",
    "arr = [2,3,2,4,5,1,12]\n",
    "\n",
    "HouseRobberCircular(arr)"
   ]
  },
  {
   "cell_type": "markdown",
   "metadata": {},
   "source": [
    "# 36. Remove Nth node from end of the list"
   ]
  },
  {
   "cell_type": "code",
   "execution_count": null,
   "metadata": {},
   "outputs": [],
   "source": [
    "class ListNode:\n",
    "    def __init__(self, value=0, next=None):\n",
    "        self.value = value\n",
    "        self.next = next\n",
    "    \n",
    "    def __str__(self):\n",
    "        current = self\n",
    "        result = \"\"\n",
    "        while current:\n",
    "            result += str(current.value)\n",
    "            if current.next:\n",
    "                result += \" -> \"\n",
    "            current = current.next\n",
    "        return result\n",
    "    \n",
    "\n",
    "\n",
    "def remove_n_node_from_end(head : ListNode, n):\n",
    "    dummy = ListNode(0,head)\n",
    "    left = dummy\n",
    "    right = head\n",
    "\n",
    "    while n > 0 and right:\n",
    "        right = right.next\n",
    "        n -= 1\n",
    "\n",
    "    while right:\n",
    "        right = right.next\n",
    "        left = left.next\n",
    "    \n",
    "    left.next = left.next.next\n",
    "\n",
    "    return dummy.next\n",
    "\n",
    "# Creating linked list: 1 -> 2 -> 3 -> 4 -> None\n",
    "node6 = ListNode(6)\n",
    "node5 = ListNode(5, node6)\n",
    "node4 = ListNode(4, node5)\n",
    "node3 = ListNode(3, node4)\n",
    "node2 = ListNode(2, node3)\n",
    "node1 = ListNode(1, node2)\n",
    "\n",
    "\n",
    "print(\"Before Modification: \" ,node1)\n",
    "modified_list = remove_n_node_from_end(node1, 3)\n",
    "print(\"Modified list:       \", modified_list)"
   ]
  },
  {
   "cell_type": "markdown",
   "metadata": {},
   "source": [
    "# 37. Copy list with random pointer"
   ]
  },
  {
   "cell_type": "code",
   "execution_count": null,
   "metadata": {},
   "outputs": [],
   "source": [
    "# def copyRandomList(head):\n",
    "#     oldToNew = {None : None}\n",
    "\n",
    "#     cur  = head\n",
    "#     while cur :\n",
    "#         oldToNew[cur] =  ListNode(cur.value)\n",
    "#         cur = cur.next\n",
    "\n",
    "#     cur = head \n",
    "#     while cur:\n",
    "#         oldToNew[cur].next = oldToNew[cur.next]\n",
    "#         oldToNew[cur].random = oldToNew[cur.random]\n",
    "#         cur = cur.next\n",
    "\n",
    "#     return oldToNew[head]\n",
    "        \n"
   ]
  },
  {
   "cell_type": "markdown",
   "metadata": {},
   "source": [
    "# 38. Maximal Square"
   ]
  },
  {
   "cell_type": "code",
   "execution_count": 59,
   "metadata": {},
   "outputs": [],
   "source": [
    "def MaximalSquare(matrix):\n",
    "    \n",
    "    row , col = len(matrix), len(matrix[0])\n",
    "\n",
    "    record = {}\n",
    "    maximal = 0\n",
    "\n",
    "    def dfs(r,c):\n",
    "        nonlocal maximal\n",
    "        if r >= row or c >= col:\n",
    "            return 0\n",
    "        if (r,c) not in record:\n",
    "            right = dfs(r,c+1)\n",
    "            down  = dfs(r+1,c)\n",
    "            diag  = dfs(r+1,c+1)\n",
    "\n",
    "            record[(r,c)] = 0\n",
    "\n",
    "            if matrix[r][c] == \"1\":\n",
    "                record[(r,c)] = 1 + min(right,down,diag)\n",
    "                maximal = max(maximal, record[(r,c)])\n",
    "                \n",
    "        return record[(r,c)]\n",
    "    dfs(0,0)\n",
    "    return maximal\n"
   ]
  },
  {
   "cell_type": "code",
   "execution_count": 52,
   "metadata": {},
   "outputs": [
    {
     "name": "stdout",
     "output_type": "stream",
     "text": [
      "1 0 0 1 1 1 1 1\n",
      "0 0 1 1 0 1 1 1\n",
      "0 1 0 0 0 0 0 0\n",
      "0 0 1 0 1 0 1 0\n",
      "0 1 0 1 1 0 1 0\n"
     ]
    }
   ],
   "source": [
    "import random\n",
    "def generate_random_matrix(m, n):\n",
    "    matrix = []\n",
    "    for _ in range(m):\n",
    "        row = [random.choice([\"0\", \"1\"]) for _ in range(n)]\n",
    "        matrix.append(row)\n",
    "    return matrix\n",
    "\n",
    "# Example usage\n",
    "m = 5  # Number of rows\n",
    "n = 8  # Number of columns\n",
    "\n",
    "random_matrix = generate_random_matrix(m, n)\n",
    "\n",
    "# Print the generated matrix\n",
    "for row in random_matrix:\n",
    "    print(\" \".join(row))"
   ]
  },
  {
   "cell_type": "code",
   "execution_count": 60,
   "metadata": {},
   "outputs": [
    {
     "name": "stdout",
     "output_type": "stream",
     "text": [
      "1 0 0 0 0 0 0 0\n",
      "1 1 1 1 1 1 0 1\n",
      "0 0 1 1 1 1 0 1\n",
      "0 1 1 1 1 1 0 1\n",
      "0 0 1 1 1 1 0 0\n"
     ]
    }
   ],
   "source": [
    "while MaximalSquare(random_matrix) < 4:\n",
    "    random_matrix = generate_random_matrix(m, n)\n",
    "\n",
    "# Print the generated matrix\n",
    "for row in random_matrix:\n",
    "    print(\" \".join(row))"
   ]
  },
  {
   "cell_type": "markdown",
   "metadata": {},
   "source": [
    "# 39. Decode Ways"
   ]
  },
  {
   "cell_type": "code",
   "execution_count": 105,
   "metadata": {},
   "outputs": [
    {
     "data": {
      "text/plain": [
       "5"
      ]
     },
     "execution_count": 105,
     "metadata": {},
     "output_type": "execute_result"
    }
   ],
   "source": [
    "def DecodeWays(s):\n",
    "    dp = { len(s) : 1}\n",
    "\n",
    "    # This return the number of different ways to decode starting at index i\n",
    "    def dfs(i):\n",
    "        if i in dp:\n",
    "            return dp[i]\n",
    "        \n",
    "        res = dfs(i+1)\n",
    "        if s[i] == '0':\n",
    "            dp[i] == 0\n",
    "\n",
    "        elif i+1 < len(s) and int(s[i] + s[i+1]) in range(1,27):\n",
    "            res += dfs(i+2)\n",
    "\n",
    "        dp[i] = res\n",
    "        return dp[i]\n",
    "    return dfs(0)\n",
    "\n",
    "DecodeWays(\"1213\")"
   ]
  },
  {
   "cell_type": "code",
   "execution_count": 106,
   "metadata": {},
   "outputs": [
    {
     "data": {
      "text/plain": [
       "[['1', '2', '1'], ['1', '21'], ['12', '1']]"
      ]
     },
     "execution_count": 106,
     "metadata": {},
     "output_type": "execute_result"
    }
   ],
   "source": [
    "def ListDecodeWays(s):\n",
    "    res = []\n",
    "    stack = []\n",
    "    def dfs(i):\n",
    "\n",
    "        if i == len(s):\n",
    "            res.append(stack[:])\n",
    "            return\n",
    "\n",
    "        if s[i] == \"0\":\n",
    "            return\n",
    "        \n",
    "        elif s[i] != \"0\":\n",
    "            stack.append(s[i])\n",
    "            dfs(i+1)\n",
    "            stack.pop()\n",
    "            \n",
    "            if i + 1 < len(s) and int(s[i] + s[i+1]) in range(1,26):\n",
    "                stack.append(s[i]+s[i+1])\n",
    "                dfs(i+2)\n",
    "                stack.pop()\n",
    "        return\n",
    "    \n",
    "    dfs(0)\n",
    "    return res\n",
    "\n",
    "ListDecodeWays(\"121\")"
   ]
  },
  {
   "cell_type": "code",
   "execution_count": 102,
   "metadata": {},
   "outputs": [
    {
     "name": "stdout",
     "output_type": "stream",
     "text": [
      "['ABACBC', 'ABACW', 'ABMBC', 'ABMW', 'AUCBC', 'AUCW', 'LACBC', 'LACW', 'LMBC', 'LMW']\n"
     ]
    }
   ],
   "source": [
    "# Create the mapping dictionary\n",
    "int_to_char = {f'{i}': chr(64 + i) for i in range(1, 27)}\n",
    "\n",
    "print([''.join([int_to_char[ele] for ele in decode]) for decode in  ListDecodeWays(\"121323\")])"
   ]
  },
  {
   "cell_type": "markdown",
   "metadata": {},
   "source": [
    "# 40. Unique Paths"
   ]
  },
  {
   "cell_type": "code",
   "execution_count": 107,
   "metadata": {},
   "outputs": [
    {
     "data": {
      "text/plain": [
       "28"
      ]
     },
     "execution_count": 107,
     "metadata": {},
     "output_type": "execute_result"
    }
   ],
   "source": [
    "def UniquePaths(m,n):\n",
    "\n",
    "    row = [1] * n\n",
    "\n",
    "    for i in range(m-1):\n",
    "        NewRow = [1] * n\n",
    "        for j in range(n-2,-1,-1):\n",
    "            NewRow[j] = NewRow[j+1] + row[j]\n",
    "        row = NewRow\n",
    "    \n",
    "    return row[0]\n",
    "\n",
    "UniquePaths(3,7)"
   ]
  },
  {
   "cell_type": "markdown",
   "metadata": {},
   "source": [
    "# 41. Number of Connected Components in Undirected Graph"
   ]
  },
  {
   "cell_type": "code",
   "execution_count": 113,
   "metadata": {},
   "outputs": [
    {
     "data": {
      "text/plain": [
       "2"
      ]
     },
     "execution_count": 113,
     "metadata": {},
     "output_type": "execute_result"
    }
   ],
   "source": [
    "def countComponents(n,edges):\n",
    "\n",
    "    par = {i:i for i in range(n)}\n",
    "    Rank = [1] * n\n",
    "\n",
    "    def find(n1):\n",
    "        if par[n1] == n1:\n",
    "            return n1\n",
    "        while par[n1] != n1:\n",
    "            n1 = par[n1]\n",
    "        return n1\n",
    "\n",
    "    def union(n1,n2):\n",
    "        n1,n2 = find(n1), find(n2)\n",
    "        if n1 == n2:\n",
    "            return 0\n",
    "        else:\n",
    "            if Rank[n1] > Rank[n2]:\n",
    "                Rank[n1] += Rank[n2]\n",
    "                par[n2] = n1\n",
    "            else :\n",
    "                Rank[n2] += Rank[n1]\n",
    "                par[n1] = n2\n",
    "            return 1\n",
    "    res = n\n",
    "    for a,b in edges:\n",
    "        res -= union(a,b)\n",
    "    \n",
    "    return res\n",
    "\n",
    "n = 5\n",
    "exemple = [[0,1],[1,2],[3,4]]\n",
    "\n",
    "\n",
    "\n",
    "countComponents(n,exemple)"
   ]
  },
  {
   "cell_type": "markdown",
   "metadata": {},
   "source": [
    "# 42. Find The Duplicate Number"
   ]
  },
  {
   "cell_type": "code",
   "execution_count": 203,
   "metadata": {},
   "outputs": [
    {
     "name": "stdout",
     "output_type": "stream",
     "text": [
      "Resulting array: [41, 99, 66, 54, 43, 57, 3, 44, 26, 16, 42, 13, 76, 68, 53, 23, 88, 49, 10, 7, 46, 39, 74, 29, 25, 38, 2, 22, 78, 64, 8, 71, 72, 84, 77, 100, 65, 47, 61, 1, 90, 31, 12, 27, 67, 92, 24, 79, 48, 81, 40, 19, 6, 75, 50, 96, 52, 36, 51, 9, 59, 82, 80, 55, 83, 85, 18, 5, 58, 20, 14, 63, 11, 34, 56, 69, 97, 93, 35, 70, 62, 33, 28, 15, 73, 60, 91, 98, 17, 87, 89, 30, 32, 21, 45, 94, 74, 74, 74, 74, 74]\n",
      "k: 74\n"
     ]
    }
   ],
   "source": [
    "import random\n",
    "\n",
    "def createExample(n):\n",
    "    # Pick k distinct elements from the range 1 to n\n",
    "    k = random.randint(1, n+1)\n",
    "    distinct_elements = random.sample(range(1, n+1), k)\n",
    "\n",
    "    # Initialize the result array\n",
    "    res = []\n",
    "\n",
    "    # Add elements to the result array until its length is n+1\n",
    "    element = random.choice(distinct_elements)\n",
    "    res.extend(distinct_elements)\n",
    "    while len(res) < n + 1:\n",
    "        res.append(element)\n",
    "    \n",
    "    return res, element\n",
    "\n"
   ]
  },
  {
   "cell_type": "code",
   "execution_count": 208,
   "metadata": {},
   "outputs": [
    {
     "name": "stdout",
     "output_type": "stream",
     "text": [
      "72\n",
      "Counter({72: 41, 26: 1, 20: 1, 13: 1, 83: 1, 95: 1, 7: 1, 87: 1, 89: 1, 2: 1, 36: 1, 49: 1, 60: 1, 41: 1, 99: 1, 34: 1, 4: 1, 73: 1, 27: 1, 91: 1, 16: 1, 50: 1, 74: 1, 53: 1, 71: 1, 17: 1, 88: 1, 86: 1, 97: 1, 77: 1, 69: 1, 23: 1, 10: 1, 65: 1, 28: 1, 70: 1, 96: 1, 84: 1, 56: 1, 6: 1, 48: 1, 21: 1, 59: 1, 12: 1, 94: 1, 54: 1, 42: 1, 55: 1, 14: 1, 58: 1, 30: 1, 8: 1, 44: 1, 80: 1, 45: 1, 61: 1, 24: 1, 64: 1, 15: 1, 32: 1, 40: 1})\n"
     ]
    }
   ],
   "source": [
    "from collections import Counter\n",
    "\n",
    "def FindDuplicate(arr):\n",
    "    slow,fast = 0,0\n",
    "\n",
    "    while True:\n",
    "        slow = arr[slow]\n",
    "        fast = arr[arr[fast]]\n",
    "        if slow == fast:\n",
    "            break\n",
    "    \n",
    "    slow2 = 0\n",
    "    while True:\n",
    "        slow = arr[slow]\n",
    "        slow2 = arr[slow2]\n",
    "        if slow == slow2:\n",
    "            return slow\n",
    "\n",
    "\n",
    "# Example usage\n",
    "n = 100\n",
    "result, k = createExample(n)\n",
    "\n",
    "print(FindDuplicate(result))\n",
    "print(Counter(result))\n"
   ]
  },
  {
   "cell_type": "markdown",
   "metadata": {},
   "source": [
    "# 43. Meeting Rooms II"
   ]
  },
  {
   "cell_type": "code",
   "execution_count": 7,
   "metadata": {},
   "outputs": [],
   "source": [
    "def RoomsNecessary(meeting):\n",
    "\n",
    "    start = sorted([a for a,b in meeting])\n",
    "    end   = sorted([b for a,b in meeting])\n",
    "\n",
    "    res, count = 0,0\n",
    "    u,d = 0,0\n",
    "    while u < len(meeting):\n",
    "        if start[u] < end[d]:\n",
    "            count += 1\n",
    "            u += 1\n",
    "        else :\n",
    "            count -= 1\n",
    "            d += 1\n",
    "        res = max(res,count)\n",
    "    \n",
    "    return res        "
   ]
  },
  {
   "cell_type": "code",
   "execution_count": 19,
   "metadata": {},
   "outputs": [
    {
     "data": {
      "text/plain": [
       "[[5, 11], [17, 19], [21, 23]]"
      ]
     },
     "execution_count": 19,
     "metadata": {},
     "output_type": "execute_result"
    }
   ],
   "source": [
    "import random\n",
    "\n",
    "meetings = []\n",
    "for _ in range(3):  # Adjust the range for the number of meetings you want\n",
    "    start_time = random.randint(0, 23)  # Assuming 24-hour format\n",
    "    end_time = random.randint(start_time + 1, 24)  # End time must be after start time\n",
    "    meetings.append([start_time, end_time])\n",
    "\n",
    "meetings.sort(key= lambda x: x[0])\n",
    "meetings"
   ]
  },
  {
   "cell_type": "code",
   "execution_count": 20,
   "metadata": {},
   "outputs": [
    {
     "data": {
      "text/plain": [
       "1"
      ]
     },
     "execution_count": 20,
     "metadata": {},
     "output_type": "execute_result"
    }
   ],
   "source": [
    "RoomsNecessary(meetings)"
   ]
  },
  {
   "cell_type": "markdown",
   "metadata": {},
   "source": [
    "# 44. Robot Boounded Circle"
   ]
  },
  {
   "cell_type": "code",
   "execution_count": 22,
   "metadata": {},
   "outputs": [],
   "source": [
    "def isRobotBounded(instructions):\n",
    "    dirX, dirY = 0,1\n",
    "    x,y = 0,0\n",
    "\n",
    "    for i in instructions:\n",
    "        if i == 'g':\n",
    "            x,y = x + dirX, y + dirY\n",
    "        if i == \"L\":\n",
    "            dirX, dirY = -dirY, dirX\n",
    "        if i == \"R\":\n",
    "            dirX,dirY = dirY,-dirX\n",
    "    \n",
    "    return (x,y) == (0,0) or (dirX,dirY) != (0,1)"
   ]
  },
  {
   "cell_type": "markdown",
   "metadata": {},
   "source": [
    " # 45. Kth smallest Element in BST"
   ]
  },
  {
   "cell_type": "code",
   "execution_count": 28,
   "metadata": {},
   "outputs": [],
   "source": [
    "import numpy as np"
   ]
  },
  {
   "cell_type": "code",
   "execution_count": 50,
   "metadata": {},
   "outputs": [],
   "source": [
    "def KthSmallestElement(root,k):\n",
    "    n = 0\n",
    "    stack = []\n",
    "    cur = root\n",
    "\n",
    "    while cur or stack:\n",
    "        while cur:\n",
    "            stack.append(cur)\n",
    "            cur = cur.left\n",
    "        \n",
    "        cur = stack.pop()\n",
    "        n += 1\n",
    "        if n == k:\n",
    "            return cur.value\n",
    "        cur = cur.right"
   ]
  },
  {
   "cell_type": "code",
   "execution_count": 30,
   "metadata": {},
   "outputs": [],
   "source": [
    "class Node:\n",
    "    def __init__(self, value: int):\n",
    "        self.value = value\n",
    "        self.left = None\n",
    "        self.right = None\n",
    "\n",
    "    def add_left(self, child_node):\n",
    "        self.left = child_node\n",
    "\n",
    "    def add_right(self, child_node):\n",
    "        self.right = child_node\n",
    "\n",
    "    def __repr__(self, level=0, prefix=\"Root: \"):\n",
    "        ret = \"  \" * level + prefix + str(self.value) + \"\\n\"\n",
    "        if self.left is not None:\n",
    "            ret += self.left.__repr__(level + 1, \"L--- \")\n",
    "        if self.right is not None:\n",
    "            ret += self.right.__repr__(level + 1, \"R--- \")\n",
    "        return ret"
   ]
  },
  {
   "cell_type": "code",
   "execution_count": 31,
   "metadata": {},
   "outputs": [],
   "source": [
    "# Fonction pour insérer un nœud dans un BST\n",
    "def insert(root, value):\n",
    "    if root is None:\n",
    "        return Node(value)\n",
    "    else:\n",
    "        if value < root.value:\n",
    "            if root.left is None:\n",
    "                root.add_left(Node(value))\n",
    "            else:\n",
    "                insert(root.left, value)\n",
    "        elif value > root.value:\n",
    "            if root.right is None:\n",
    "                root.add_right(Node(value))\n",
    "            else:\n",
    "                insert(root.right, value)\n",
    "    return root"
   ]
  },
  {
   "cell_type": "code",
   "execution_count": 51,
   "metadata": {},
   "outputs": [],
   "source": [
    "# Créer un tableau de 10 entiers aléatoires uniques compris entre 1 et 100\n",
    "random_array = np.random.choice(range(1, 101), size=5, replace=False).tolist()\n",
    "bst = Node(10)\n",
    "for value in random_array:\n",
    "    insert(bst, value)"
   ]
  },
  {
   "cell_type": "code",
   "execution_count": 55,
   "metadata": {},
   "outputs": [
    {
     "name": "stdout",
     "output_type": "stream",
     "text": [
      "Root: 10\n",
      "  L--- 5\n",
      "  R--- 74\n",
      "    L--- 29\n",
      "    R--- 90\n",
      "      R--- 97\n",
      "\n",
      "5 10 29 74 90 \n",
      "\n",
      "[5, 10, 29, 74, 90, 97]\n"
     ]
    }
   ],
   "source": [
    "print(bst)\n",
    "\n",
    "for i in range(1,6):   \n",
    "    print(KthSmallestElement(bst,i), end = \" \")\n",
    "print(\"\\n\")\n",
    "\n",
    "def extractvalueTree(node):\n",
    "    if not node:\n",
    "        return []\n",
    "    return [node.value] + extractvalueTree(node.left) + extractvalueTree(node.right)\n",
    "\n",
    "print(sorted(extractvalueTree(bst)))"
   ]
  },
  {
   "cell_type": "markdown",
   "metadata": {},
   "source": [
    "# 46. Palindromic Substrings"
   ]
  },
  {
   "cell_type": "code",
   "execution_count": 62,
   "metadata": {},
   "outputs": [
    {
     "name": "stdout",
     "output_type": "stream",
     "text": [
      "a\n",
      "b\n",
      "d\n",
      "c\n",
      "cc\n",
      "dccd\n",
      "c\n",
      "d\n"
     ]
    },
    {
     "data": {
      "text/plain": [
       "8"
      ]
     },
     "execution_count": 62,
     "metadata": {},
     "output_type": "execute_result"
    }
   ],
   "source": [
    "def numPalin(s,i,j):\n",
    "    res = 0\n",
    "    l,r = i,j\n",
    "    while l >= 0 and r < len(s) and s[l] == s[r]:\n",
    "        print(s[l:r+1])\n",
    "        res += 1\n",
    "        l -= 1\n",
    "        r += 1\n",
    "    return res\n",
    "\n",
    "def countSubstrings(s):\n",
    "    res = 0\n",
    "    for i in range(len(s)):\n",
    "        res += numPalin(s,i,i)\n",
    "        res += numPalin(s,i,i+1)\n",
    "    return res\n",
    "\n",
    "countSubstrings(\"abdccd\")\n"
   ]
  },
  {
   "cell_type": "markdown",
   "metadata": {},
   "source": [
    "# 47. Pacific Atlantic Water Flow"
   ]
  },
  {
   "cell_type": "code",
   "execution_count": null,
   "metadata": {},
   "outputs": [],
   "source": [
    "def PacificAtlantic(heights: list[list[int]]):\n",
    "    ROWS, COLS = len(heights), len(heights[0])\n",
    "    atl , pac = set(), set()\n",
    "    res = []\n",
    "\n",
    "    def dfs(r,c,visit,prevheight):\n",
    "        if r not in range(ROWS) or c not in range(COLS) or heights[r][c] < prevheight or (r,c) in visit:\n",
    "            return\n",
    "        visit.add((r,c))\n",
    "        dfs(r+1,c,visit,heights[r][c])\n",
    "        dfs(r-1,c,visit,heights[r][c])\n",
    "        dfs(r,c+1,visit,heights[r][c])\n",
    "        dfs(r,c-1,visit,heights[r][c])\n",
    "\n",
    "    for r in range(ROWS):\n",
    "        dfs(r,0,pac,heights[r][0])\n",
    "        dfs(r,COLS-1,atl,heights[r][COLS-1])\n",
    "\n",
    "    for c in range(COLS):\n",
    "        dfs(0,c,pac,heights[r][0])\n",
    "        dfs(ROWS-1,c,atl,heights[ROWS-1][c])\n",
    "\n",
    "\n",
    "    for r in range(ROWS):\n",
    "        for c in range(COLS):\n",
    "            if (r,c) in atl and (r,c) in pac:\n",
    "                res.append((r,c))\n",
    "\n",
    "    return res"
   ]
  },
  {
   "cell_type": "markdown",
   "metadata": {},
   "source": [
    "# 48. Implement Trie -- > SKIP"
   ]
  },
  {
   "cell_type": "markdown",
   "metadata": {},
   "source": [
    "# 49. Valid Sudoku"
   ]
  },
  {
   "cell_type": "code",
   "execution_count": 3,
   "metadata": {},
   "outputs": [],
   "source": [
    "from collections import defaultdict\n",
    "def isValidSudoku(board):\n",
    "    rows = defaultdict(set)\n",
    "    cols = defaultdict(set)\n",
    "    squares = defaultdict(set)\n",
    "\n",
    "    for r in range(9):\n",
    "        for c in range(9):\n",
    "            if not isinstance(board[r][c],int):\n",
    "                continue    \n",
    "            if board[r][c] in rows[r] or board[r][c] in cols[c] or board[r][c] in squares[(r//3,c//3)]:\n",
    "                return False\n",
    "            rows[r].add(board[r][c])\n",
    "            cols[r].add(board[r][c])\n",
    "            squares[(r//3,c//3)].add(board[r][c])\n",
    "    return True"
   ]
  },
  {
   "cell_type": "markdown",
   "metadata": {},
   "source": [
    "# 50. Subarray sum equals K"
   ]
  },
  {
   "cell_type": "code",
   "execution_count": 6,
   "metadata": {},
   "outputs": [
    {
     "data": {
      "text/plain": [
       "2"
      ]
     },
     "execution_count": 6,
     "metadata": {},
     "output_type": "execute_result"
    }
   ],
   "source": [
    "def subarraySum(nums,k):\n",
    "    res = 0\n",
    "    dico = {0:1}\n",
    "    curr = 0\n",
    "    for ele in nums:\n",
    "        curr += ele\n",
    "        res += dico.get(curr-k,0)\n",
    "        dico[curr] = dico.get(curr,0) + 1\n",
    "    return res\n",
    "\n",
    "exemple = [1,-1,1,1,1]\n",
    "subarraySum(exemple,0)"
   ]
  },
  {
   "cell_type": "markdown",
   "metadata": {},
   "source": [
    "# 51. Multiply strings"
   ]
  },
  {
   "cell_type": "code",
   "execution_count": 17,
   "metadata": {},
   "outputs": [
    {
     "data": {
      "text/plain": [
       "'100'"
      ]
     },
     "execution_count": 17,
     "metadata": {},
     "output_type": "execute_result"
    }
   ],
   "source": [
    "def multpiply(nums1,nums2):\n",
    "    if \"0\" in [nums1,nums2]:\n",
    "        return \"0\"\n",
    "    \n",
    "    nums1 = nums1[::-1]\n",
    "    nums2 = nums2[::-1]\n",
    "\n",
    "    res = [0] * (len(nums1)+len(nums2))\n",
    "\n",
    "    for i in range(len(nums1)):\n",
    "        for j in range(len(nums2)):\n",
    "            digit = int(nums1[i])*int(nums2[j])   \n",
    "\n",
    "            res[i+j] += digit\n",
    "            res[i+j+1] += res[i+j]//10\n",
    "            res[i+j] = res[i+j]%10\n",
    "\n",
    "\n",
    "    res = map(str,res[::-1])\n",
    "    return \"\".join(res).lstrip('0')\n",
    "\n",
    "multpiply(\"10\",\"10\")"
   ]
  },
  {
   "cell_type": "markdown",
   "metadata": {},
   "source": [
    "# 52. Reorder Routes to Make all paths lead to the city Zero"
   ]
  },
  {
   "cell_type": "code",
   "execution_count": 21,
   "metadata": {},
   "outputs": [
    {
     "name": "stdout",
     "output_type": "stream",
     "text": [
      "1 0\n",
      "3 1\n",
      "5 4\n"
     ]
    },
    {
     "data": {
      "text/plain": [
       "3"
      ]
     },
     "execution_count": 21,
     "metadata": {},
     "output_type": "execute_result"
    }
   ],
   "source": [
    "def reorder(n,connections):\n",
    "\n",
    "    connect = { (a,b) for a,b in connections}\n",
    "    neighbour = { city:[] for city in range(n)}\n",
    "    visit = set()\n",
    "    change = 0\n",
    "\n",
    "    for a,b in connect:\n",
    "        neighbour[a].append(b)\n",
    "        neighbour[b].append(a)\n",
    "\n",
    "    def dfs(city):\n",
    "        nonlocal change\n",
    "\n",
    "        for neig in neighbour[city]:\n",
    "            if neig in visit :\n",
    "                continue\n",
    "\n",
    "            if (neig,city) not in connect:\n",
    "                print(neig,city)\n",
    "                change += 1\n",
    "            visit.add(neig)\n",
    "            dfs(neig)\n",
    "\n",
    "    visit.add(0)\n",
    "    dfs(0)\n",
    "    return change\n",
    "\n",
    "exemple = [[0,1],[1,3],[2,3],[4,0],[4,5]]\n",
    "reorder(6,exemple)"
   ]
  },
  {
   "cell_type": "markdown",
   "metadata": {},
   "source": [
    "# 53. Interleaving String"
   ]
  },
  {
   "cell_type": "code",
   "execution_count": 118,
   "metadata": {},
   "outputs": [],
   "source": [
    "from collections import defaultdict\n",
    "def isInterleave(s1,s2,s3,version=True):\n",
    "\n",
    "    if version == True:\n",
    "        # Memoïsation solution:\n",
    "        dp = defaultdict(lambda:False)\n",
    "        def dfs(i,j):\n",
    "            if i + j == len(s3):\n",
    "                return True\n",
    "            if (i,j) in dp:\n",
    "                return dp[(i,j)]\n",
    "            \n",
    "            if i < len(s1) and s1[i] == s3[i+j] and dfs(i+1,j):\n",
    "                dp[(i,j)]=True\n",
    "                return True\n",
    "            if j < len(s2) and s2[j] == s3[i+j] and dfs(i,j+1):\n",
    "                dp[(i,j)]== True\n",
    "                return True\n",
    "            dp[(i,j)] = False\n",
    "            return False\n",
    "        return dfs(0,0)\n",
    "    \n",
    "    # Dynamic programming solution:\n",
    "    else :\n",
    "        if not len(s1) + len(s2) == len(s3):\n",
    "            return False\n",
    "        \n",
    "        dp2 = [[False]*(len(s2)+1) for i in range(len(s1)+1)]\n",
    "        dp2[len(s1)][len(s2)] = True\n",
    "\n",
    "        for i in range(len(s1),-1,-1):\n",
    "            for j in range(len(s2),-1,-1):\n",
    "                if i < len(s1) and s1[i] == s3[i+j] and dp2[i+1][j]:\n",
    "                    dp2[i][j] = True\n",
    "                if j < len(s2) and s2[j] == s3[i+j] and dp2[i][j+1]:\n",
    "                    dp2[i][j] = True\n",
    "\n",
    "        return dp2[0][0]"
   ]
  },
  {
   "cell_type": "code",
   "execution_count": 30,
   "metadata": {},
   "outputs": [
    {
     "name": "stdout",
     "output_type": "stream",
     "text": [
      "estuvuxcfv\n"
     ]
    }
   ],
   "source": [
    "import random\n",
    "\n",
    "def generate_random_string(length=10):\n",
    "    # Generate a list of random numbers between 1 and 26\n",
    "    random_numbers = [random.randint(1, 26) for _ in range(length)]\n",
    "    # Convert each number to a corresponding ASCII character (A-Z)\n",
    "    random_string = ''.join(chr(num + ord('a') - 1) for num in random_numbers)\n",
    "    return random_string\n",
    "\n",
    "# Generate a random string of length 10\n",
    "random_str = generate_random_string(10)\n",
    "print(random_str)"
   ]
  },
  {
   "cell_type": "code",
   "execution_count": 115,
   "metadata": {},
   "outputs": [
    {
     "name": "stdout",
     "output_type": "stream",
     "text": [
      "Original string: wvxzuijemk\n",
      "String 1: wxzuie\n",
      "String 2: vjmk\n"
     ]
    }
   ],
   "source": [
    "from collections import deque\n",
    "\n",
    "def split_random_string(s):\n",
    "    # Convert the string into a deque for efficient popping from the left\n",
    "    char_deque = deque(s)\n",
    "    \n",
    "    # Initialize two empty strings\n",
    "    str1 = \"\"\n",
    "    str2 = \"\"\n",
    "    \n",
    "    # Iterate while there are characters left in the deque\n",
    "    while char_deque:\n",
    "        # Pop a character from the left\n",
    "        char = char_deque.popleft()\n",
    "        \n",
    "        # Randomly append the character to one of the two strings\n",
    "        if random.choice([True, False]):\n",
    "            str1 += char\n",
    "        else:\n",
    "            str2 += char\n",
    "    \n",
    "    return str1, str2\n",
    "\n",
    "# Example usage\n",
    "random_str = generate_random_string(10)\n",
    "str1, str2 = split_random_string(random_str)\n",
    "print(f\"Original string: {random_str}\")\n",
    "print(f\"String 1: {str1}\")\n",
    "print(f\"String 2: {str2}\")\n",
    "\n"
   ]
  },
  {
   "cell_type": "code",
   "execution_count": 102,
   "metadata": {},
   "outputs": [
    {
     "data": {
      "text/plain": [
       "'gagqhyhvwoa'"
      ]
     },
     "execution_count": 102,
     "metadata": {},
     "output_type": "execute_result"
    }
   ],
   "source": [
    "random_str + \"a\""
   ]
  },
  {
   "cell_type": "code",
   "execution_count": 95,
   "metadata": {},
   "outputs": [],
   "source": [
    "# If I want to create instance of False\n",
    "# str_random = map(ord,str1)\n",
    "# str_random = list(str_random)\n",
    "# random.shuffle(str_random)\n",
    "# str_random\n",
    "# str_random = map(chr,str_random)\n",
    "# str_random = \"\".join(list(str_random))\n",
    "# str2 = str_random"
   ]
  },
  {
   "cell_type": "code",
   "execution_count": 116,
   "metadata": {},
   "outputs": [
    {
     "data": {
      "text/plain": [
       "True"
      ]
     },
     "execution_count": 116,
     "metadata": {},
     "output_type": "execute_result"
    }
   ],
   "source": [
    "isInterleave(str1,str2,random_str)"
   ]
  },
  {
   "cell_type": "code",
   "execution_count": 124,
   "metadata": {},
   "outputs": [
    {
     "name": "stdout",
     "output_type": "stream",
     "text": [
      "Total time for version=True: 0.002814 seconds\n",
      "Total time for version=False: 0.005705 seconds\n",
      "version=True is faster\n"
     ]
    }
   ],
   "source": [
    "import time\n",
    "\n",
    "# Initialize accumulators for the times\n",
    "t1 = 0\n",
    "t2 = 0\n",
    "\n",
    "# Number of iterations for the test\n",
    "iterations = 1000\n",
    "\n",
    "# Perform the timing in a loop\n",
    "for _ in range(iterations):\n",
    "    # Create a random instance for the function\n",
    "    i = random.randint(2,10)\n",
    "    data = generate_random_string(i)\n",
    "    str1, str2 = split_random_string(data)\n",
    "    \n",
    "    \n",
    "    # Time the execution of the version=True\n",
    "    start_time = time.time()\n",
    "    isInterleave(str1,str2,data, version=True)\n",
    "    t1 += time.time() - start_time\n",
    "    \n",
    "    # Time the execution of the version=False\n",
    "    start_time = time.time()\n",
    "    isInterleave(str1,str2,data, version=False)\n",
    "    t2 += time.time() - start_time\n",
    "\n",
    "print(f\"Total time for version=True: {t1:.6f} seconds\")\n",
    "print(f\"Total time for version=False: {t2:.6f} seconds\")\n",
    "\n",
    "if t1 < t2:\n",
    "    print(\"version=True is faster\")\n",
    "else:\n",
    "    print(\"version=False is faster\")"
   ]
  },
  {
   "cell_type": "markdown",
   "metadata": {},
   "source": [
    "# 54. Group Anagrams"
   ]
  },
  {
   "cell_type": "code",
   "execution_count": 131,
   "metadata": {},
   "outputs": [
    {
     "data": {
      "text/plain": [
       "dict_values([['vfgqlnqmi', 'fgnmvqlqi'], ['fgnm'], ['ao', 'ao'], [''], ['jaqx', 'axjq'], ['ax']])"
      ]
     },
     "execution_count": 131,
     "metadata": {},
     "output_type": "execute_result"
    }
   ],
   "source": [
    "def groupAnagrams(strs):\n",
    "\n",
    "    res = defaultdict(list)\n",
    "\n",
    "    for s in strs:\n",
    "\n",
    "        count = [0] * 26\n",
    "        \n",
    "        for c in s:\n",
    "            count[ord(c) - ord(\"a\")] += 1\n",
    "        \n",
    "        res[tuple(count)].append(s)\n",
    "    \n",
    "    return res.values()\n",
    "\n",
    "\n",
    "exemple = []\n",
    "for i in range(3):\n",
    "    k = random.randint(1,10)\n",
    "    exe = generate_random_string(k)\n",
    "    str1, str2 = split_random_string(exe)\n",
    "    exemple.extend([exe,str1 + str2,str1])\n",
    "\n",
    "groupAnagrams(exemple)\n",
    "        \n"
   ]
  },
  {
   "cell_type": "markdown",
   "metadata": {},
   "source": [
    "# 55. Find minimum in Rotated Sorted Array"
   ]
  },
  {
   "cell_type": "code",
   "execution_count": 373,
   "metadata": {},
   "outputs": [
    {
     "data": {
      "text/plain": [
       "True"
      ]
     },
     "execution_count": 373,
     "metadata": {},
     "output_type": "execute_result"
    }
   ],
   "source": [
    "def findMinRotated(nums):\n",
    "\n",
    "    l, r = 0, len(nums)-1\n",
    "\n",
    "    while l < r:\n",
    "        if nums[l] <= nums[r]:\n",
    "            return nums[l]\n",
    "        \n",
    "        mid = (l + r)//2\n",
    "\n",
    "        if nums[mid] > nums[l]:\n",
    "            l = mid + 1\n",
    "\n",
    "        else:\n",
    "            if nums[mid-1] < nums[mid]:\n",
    "                r = mid - 1\n",
    "            else :\n",
    "                r = mid\n",
    "    return nums[mid+1]\n",
    "        \n",
    "\n",
    "T = True\n",
    "for i in range(100):\n",
    "    sorted_array = sorted(random.sample(range(100), 20))\n",
    "    k = random.randint(1,20)\n",
    "    sorted_array = sorted_array[k:] + sorted_array[:k]\n",
    "    # print(sorted_array)\n",
    "    # print(k,sorted_array[len(sorted_array)-k])\n",
    "    T = (sorted_array[len(sorted_array)-k] == findMinRotated(sorted_array) ) and T\n",
    "T"
   ]
  },
  {
   "cell_type": "code",
   "execution_count": 399,
   "metadata": {},
   "outputs": [
    {
     "data": {
      "image/png": "[encoded data removed]",
      "text/plain": [
       "<Figure size 640x480 with 1 Axes>"
      ]
     },
     "metadata": {},
     "output_type": "display_data"
    },
    {
     "name": "stdout",
     "output_type": "stream",
     "text": [
      "last one 2\n"
     ]
    },
    {
     "data": {
      "image/png": "[encoded data removed]",
      "text/plain": [
       "<Figure size 640x480 with 1 Axes>"
      ]
     },
     "metadata": {},
     "output_type": "display_data"
    },
    {
     "name": "stdout",
     "output_type": "stream",
     "text": [
      "last one 1\n"
     ]
    },
    {
     "data": {
      "image/png": "[encoded data removed]",
      "text/plain": [
       "<Figure size 640x480 with 1 Axes>"
      ]
     },
     "metadata": {},
     "output_type": "display_data"
    },
    {
     "name": "stdout",
     "output_type": "stream",
     "text": [
      "last one 1\n"
     ]
    },
    {
     "data": {
      "image/png": "[encoded data removed]",
      "text/plain": [
       "<Figure size 640x480 with 1 Axes>"
      ]
     },
     "metadata": {},
     "output_type": "display_data"
    },
    {
     "name": "stdout",
     "output_type": "stream",
     "text": [
      "last one 2\n",
      "here\n",
      "14\n"
     ]
    }
   ],
   "source": [
    "import matplotlib.pyplot as plt\n",
    "\n",
    "def findMinRotated(nums):\n",
    "    l, r = 0, len(nums)-1\n",
    "\n",
    "    while l < r:\n",
    "        # Visualize the subarray\n",
    "        mid = (l + r)//2\n",
    "\n",
    "        subarray = nums[l:r+1]\n",
    "        plt.scatter(range(l, r+1), subarray, color='red', label='Subarray')\n",
    "        plt.plot(range(l, r+1), subarray, color='red')\n",
    "        plt.scatter(mid, nums[mid], color='blue', label='Midpoint')\n",
    "        plt.legend()\n",
    "        plt.xlabel('Index')\n",
    "        plt.ylabel('Value')\n",
    "        plt.title('Subarray and Midpoint')\n",
    "        plt.show()\n",
    "\n",
    "        if nums[l] <= nums[r]:\n",
    "            return nums[l]\n",
    "\n",
    "\n",
    "        if nums[mid] > nums[l]:\n",
    "            l = mid + 1\n",
    "            print('last one 1')\n",
    "\n",
    "        else:\n",
    "            if nums[mid-1] < nums[mid]:\n",
    "                r = mid - 1\n",
    "                print(\"last one 2\")\n",
    "            else:\n",
    "                r = mid\n",
    "                print(\"last one 3\")\n",
    "        \n",
    "\n",
    "    print(\"here\")\n",
    "    return nums[mid+1]\n",
    "\n",
    "sorted_array = sorted(random.sample(range(100), 20))\n",
    "k = random.randint(1,20)\n",
    "sorted_array = sorted_array[k:] + sorted_array[:k]\n",
    "print(findMinRotated(sorted_array))"
   ]
  },
  {
   "cell_type": "markdown",
   "metadata": {},
   "source": [
    "# 56. Binary tree level order traversal"
   ]
  },
  {
   "cell_type": "code",
   "execution_count": 433,
   "metadata": {},
   "outputs": [],
   "source": [
    "from Helper_function import Node, ListNode\n",
    "\n",
    "import numpy as np"
   ]
  },
  {
   "cell_type": "code",
   "execution_count": 439,
   "metadata": {},
   "outputs": [],
   "source": [
    "import importlib\n",
    "importlib.reload(Helper_function)\n",
    "from Helper_function import insert"
   ]
  },
  {
   "cell_type": "code",
   "execution_count": 451,
   "metadata": {},
   "outputs": [
    {
     "data": {
      "text/plain": [
       "Root: 10\n",
       "  L--- 1\n",
       "  R--- 16\n",
       "    R--- 55\n",
       "      L--- 25\n",
       "        L--- 22\n",
       "          L--- 20\n",
       "        R--- 43\n",
       "      R--- 91\n",
       "        L--- 83"
      ]
     },
     "execution_count": 451,
     "metadata": {},
     "output_type": "execute_result"
    }
   ],
   "source": [
    "random_array = np.random.choice(range(1, 101), size=9, replace=False).tolist()\n",
    "tree = Node(10)\n",
    "\n",
    "for ele in random_array:\n",
    "    insert(tree,ele)\n",
    "tree"
   ]
  },
  {
   "cell_type": "code",
   "execution_count": 454,
   "metadata": {},
   "outputs": [
    {
     "data": {
      "text/plain": [
       "[[10], [1, 16], [55], [25, 91], [22, 43, 83], [20]]"
      ]
     },
     "execution_count": 454,
     "metadata": {},
     "output_type": "execute_result"
    }
   ],
   "source": [
    "def inOrderTraversal(root):\n",
    "\n",
    "    res = defaultdict(list)\n",
    "\n",
    "    def bfs(tree,level):\n",
    "        if not tree: return\n",
    "\n",
    "        res[level].append(tree.value)\n",
    "\n",
    "        level += 1\n",
    "        bfs(tree.left,level)\n",
    "        bfs(tree.right,level)\n",
    "\n",
    "    bfs(root,0)\n",
    "    return list(res.values())\n",
    "\n",
    "    \n",
    "\n",
    "inOrderTraversal(tree)"
   ]
  },
  {
   "cell_type": "markdown",
   "metadata": {},
   "source": [
    "# 57. Minimum number of swaps"
   ]
  },
  {
   "cell_type": "code",
   "execution_count": 455,
   "metadata": {},
   "outputs": [],
   "source": [
    "# Skip"
   ]
  },
  {
   "cell_type": "markdown",
   "metadata": {},
   "source": [
    "# 59. Triangle"
   ]
  },
  {
   "cell_type": "code",
   "execution_count": 484,
   "metadata": {},
   "outputs": [
    {
     "data": {
      "text/plain": [
       "[[8],\n",
       " [3, 8],\n",
       " [6, 6, 6],\n",
       " [1, 1, 2, 7],\n",
       " [7, 5, 2, 4, 6],\n",
       " [4, 6, 5, 3, 2, 2],\n",
       " [1, 5, 1, 1, 2, 8, 1]]"
      ]
     },
     "execution_count": 484,
     "metadata": {},
     "output_type": "execute_result"
    }
   ],
   "source": [
    "def generate_triangle(n):\n",
    "    l = []\n",
    "    for i in range(1,n+1):\n",
    "        ele = np.random.randint(1,10,size=i)\n",
    "        l.append(list(ele))\n",
    "    return l\n",
    "\n",
    "exe = generate_triangle(7)\n",
    "exe"
   ]
  },
  {
   "cell_type": "code",
   "execution_count": 486,
   "metadata": {},
   "outputs": [
    {
     "data": {
      "text/plain": [
       "24"
      ]
     },
     "execution_count": 486,
     "metadata": {},
     "output_type": "execute_result"
    }
   ],
   "source": [
    "def triangle(nums):\n",
    "    dp = [0] * (len(nums)+1)\n",
    "    for levels in nums[::-1]:\n",
    "        for i, ele in enumerate(levels):\n",
    "            dp[i] = ele + min(dp[i],dp[i+1])\n",
    "    return dp[0]\n",
    "\n",
    "triangle(exe)"
   ]
  },
  {
   "cell_type": "markdown",
   "metadata": {},
   "source": [
    "# 60. Top k frequent elements"
   ]
  },
  {
   "cell_type": "code",
   "execution_count": 543,
   "metadata": {},
   "outputs": [
    {
     "data": {
      "text/plain": [
       "array([3, 3, 1, 1, 2, 1, 3, 0, 1, 0])"
      ]
     },
     "execution_count": 543,
     "metadata": {},
     "output_type": "execute_result"
    }
   ],
   "source": [
    "exe = np.random.randint(4,size = 10)\n",
    "exe"
   ]
  },
  {
   "cell_type": "code",
   "execution_count": 549,
   "metadata": {},
   "outputs": [],
   "source": [
    "def topK(nums,k):\n",
    "\n",
    "    array = [[] for i in range(len(nums)+1)]\n",
    "    count = defaultdict(int)\n",
    "\n",
    "    for ele in nums:\n",
    "        count[ele] += 1\n",
    "    for key, value in count.items():\n",
    "        array[value].append(key)\n",
    "\n",
    "    res = []\n",
    "    for i in range(len(nums),-1,-1):\n",
    "        for val in array[i]:\n",
    "            if len(res) == k:\n",
    "                return res\n",
    "            res.append(val)\n"
   ]
  },
  {
   "cell_type": "code",
   "execution_count": 550,
   "metadata": {},
   "outputs": [
    {
     "data": {
      "text/plain": [
       "[1, 3]"
      ]
     },
     "execution_count": 550,
     "metadata": {},
     "output_type": "execute_result"
    }
   ],
   "source": [
    "topK(list(exe),2)"
   ]
  },
  {
   "cell_type": "markdown",
   "metadata": {},
   "source": [
    "# 61. Kth largest element"
   ]
  },
  {
   "cell_type": "code",
   "execution_count": 17,
   "metadata": {},
   "outputs": [],
   "source": [
    "def KthLargest(arr,k):\n",
    "    # First of all if the array was sorted the results would be arr[len(arr)-k]\n",
    "    # If the array was sorted in ascending = False then it would be arr[k+1]\n",
    "    # We are going to do the quickselect algo with ascending = False\n",
    "\n",
    "    def quickselect(l,r):\n",
    "        pivot , p = arr[r-1], l\n",
    "        for i in range(l,r):\n",
    "            if arr[i] >= pivot:\n",
    "                arr[p],arr[i] = arr[i],arr[p]\n",
    "                p += 1\n",
    "        if p  > k  : return quickselect(l,p)\n",
    "        elif p  < k : return quickselect(p,r)\n",
    "        else : \n",
    "            return arr[p-1]\n",
    "    return quickselect(0,len(arr))"
   ]
  },
  {
   "cell_type": "code",
   "execution_count": null,
   "metadata": {},
   "outputs": [],
   "source": [
    "# k = len(nums) - k\n",
    "\n",
    "# def quickselect(l,r):\n",
    "#     pivot, p = nums[r], l\n",
    "#     for i in range(l,r):\n",
    "#         if nums[i] <= pivot:\n",
    "#             nums[p],nums[i] = nums[i], nums[p]\n",
    "#             p += 1\n",
    "#         nums[p],nums[r] = nums[r], nums[p]\n",
    "\n",
    "#         if p > k: return quickselect(l,p-1)\n",
    "#         if p < k: return quickselect(p+1,r)\n",
    "#         else : return nums[p]\n",
    "\n",
    "#     return quickselect(0,len(nums)-1)"
   ]
  },
  {
   "cell_type": "code",
   "execution_count": 21,
   "metadata": {},
   "outputs": [
    {
     "data": {
      "text/plain": [
       "3"
      ]
     },
     "execution_count": 21,
     "metadata": {},
     "output_type": "execute_result"
    }
   ],
   "source": [
    "test = [3,1,2,4]\n",
    "\n",
    "KthLargest(test, 2)"
   ]
  },
  {
   "cell_type": "code",
   "execution_count": 22,
   "metadata": {},
   "outputs": [],
   "source": [
    "def KthLargestV2(arr,k):\n",
    "    arr.sort(reverse= True)\n",
    "    return arr[k-1]"
   ]
  },
  {
   "cell_type": "code",
   "execution_count": 23,
   "metadata": {},
   "outputs": [],
   "source": [
    "test = True\n",
    "for i in range(10**4):\n",
    "    array_size = random.randint(15,40)\n",
    "    random_array = random.choices(range(1, 20 + 1), k=array_size)\n",
    "    for j in range(1,len(random_array)+1):\n",
    "        if not KthLargest(random_array,j) == KthLargestV2(random_array,j):\n",
    "            test = False\n",
    "    if not test:\n",
    "        break"
   ]
  },
  {
   "cell_type": "code",
   "execution_count": 24,
   "metadata": {},
   "outputs": [
    {
     "data": {
      "text/plain": [
       "True"
      ]
     },
     "execution_count": 24,
     "metadata": {},
     "output_type": "execute_result"
    }
   ],
   "source": [
    "test"
   ]
  },
  {
   "cell_type": "markdown",
   "metadata": {},
   "source": [
    "# 62. Minimum number of flips to make binary string alternating"
   ]
  },
  {
   "cell_type": "code",
   "execution_count": 3,
   "metadata": {},
   "outputs": [
    {
     "name": "stdout",
     "output_type": "stream",
     "text": [
      "0000001101\n"
     ]
    }
   ],
   "source": [
    "import random\n",
    "\n",
    "def generate_random_binary_string(length):\n",
    "    binary_string = ''.join(random.choice('01') for _ in range(length))\n",
    "    return binary_string\n",
    "\n",
    "# Example usage:\n",
    "random_string = generate_random_binary_string(10)\n",
    "print(random_string)"
   ]
  },
  {
   "cell_type": "code",
   "execution_count": 39,
   "metadata": {},
   "outputs": [],
   "source": [
    "def minFlips(s):\n",
    "    n = len(s)\n",
    "    s = s + s\n",
    "    alt1 = \"\"\n",
    "    for i in range(2*n):\n",
    "        alt1 += \"0\" if i%2 else \"1\"\n",
    "    diff1 = 0\n",
    "    for i in range(n):\n",
    "        if s[i] != alt1[i]:\n",
    "            diff1 += 1\n",
    "    res = n\n",
    "    for k in range(n,2*n):\n",
    "        res = min(diff1,n-diff1,res)\n",
    "        diff1 = diff1 - int(s[k-n] != alt1[k-n]) + int(s[k] != alt1[k])\n",
    "    return res\n"
   ]
  },
  {
   "cell_type": "code",
   "execution_count": 40,
   "metadata": {},
   "outputs": [
    {
     "name": "stdout",
     "output_type": "stream",
     "text": [
      "1111\n"
     ]
    },
    {
     "data": {
      "text/plain": [
       "2"
      ]
     },
     "execution_count": 40,
     "metadata": {},
     "output_type": "execute_result"
    }
   ],
   "source": [
    "exe = generate_random_binary_string(4)\n",
    "print(exe)\n",
    "\n",
    "minFlips(exe)"
   ]
  },
  {
   "cell_type": "markdown",
   "metadata": {},
   "source": [
    "# 63. Find first and last element in sorted array"
   ]
  },
  {
   "cell_type": "code",
   "execution_count": 44,
   "metadata": {},
   "outputs": [],
   "source": [
    "def binarySearch(nums,target,left_bias):\n",
    "    l,r = 0 , len(nums)-1\n",
    "    i = [-1]\n",
    "\n",
    "    while l <= r :\n",
    "        m = (l+r)//2\n",
    "        if nums[m] < target:\n",
    "            l = m + 1\n",
    "        elif nums[m] > target:\n",
    "            r = m - 1\n",
    "        else:\n",
    "            i[0] = m\n",
    "            if left_bias:\n",
    "                r = m - 1\n",
    "            else :\n",
    "                l = m + 1\n",
    "    return i[0]\n",
    "\n",
    "def search_range(nums,target):\n",
    "    left = binarySearch(nums,target,True)\n",
    "    right = binarySearch(nums,target,False)\n",
    "    return [left,right]"
   ]
  },
  {
   "cell_type": "code",
   "execution_count": 45,
   "metadata": {},
   "outputs": [
    {
     "data": {
      "text/plain": [
       "3"
      ]
     },
     "execution_count": 45,
     "metadata": {},
     "output_type": "execute_result"
    }
   ],
   "source": [
    "binarySearch(exemple,-7,False)"
   ]
  },
  {
   "cell_type": "code",
   "execution_count": 3,
   "metadata": {},
   "outputs": [
    {
     "name": "stdout",
     "output_type": "stream",
     "text": [
      "[-8, -4, -2, 0, 1, 2, 7, 8, 9, 10]\n"
     ]
    }
   ],
   "source": [
    "import numpy as np \n",
    "\n",
    "exemple = sorted(np.random.randint(-10,11,size = 10))\n",
    "\n",
    "print(exemple)\n",
    "\n",
    "exemple = [-8, -7, -7, -7, -6, -3, 1, 5, 8, 10]\n",
    "\n",
    "exemple"
   ]
  },
  {
   "cell_type": "code",
   "execution_count": 54,
   "metadata": {},
   "outputs": [],
   "source": [
    "# 64. swap pairs"
   ]
  },
  {
   "cell_type": "code",
   "execution_count": 46,
   "metadata": {},
   "outputs": [],
   "source": [
    "from Helper_function import ListNode"
   ]
  },
  {
   "cell_type": "code",
   "execution_count": 129,
   "metadata": {},
   "outputs": [
    {
     "name": "stdout",
     "output_type": "stream",
     "text": [
      "10 -> 18 -> 26 -> 6 -> 14 -> 11\n"
     ]
    }
   ],
   "source": [
    "import random\n",
    "a = ListNode(10)\n",
    "a.next = ListNode(12)\n",
    "b = a\n",
    "\n",
    "for i in range(5):\n",
    "    a.next = ListNode(random.randint(0,28))\n",
    "    a = a.next\n",
    "print(b)"
   ]
  },
  {
   "cell_type": "code",
   "execution_count": 130,
   "metadata": {},
   "outputs": [
    {
     "name": "stdout",
     "output_type": "stream",
     "text": [
      "Befor swaping :  10 -> 18 -> 26 -> 6 -> 14 -> 11\n",
      "After swaping :  18 -> 10 -> 6 -> 26 -> 11 -> 14\n"
     ]
    }
   ],
   "source": [
    "print(\"Befor swaping : \", b)\n",
    "def swapPairs(Node):\n",
    "    dummy = ListNode(0,Node)\n",
    "    prev, curr = dummy, Node\n",
    "\n",
    "    while curr and curr.next:\n",
    "\n",
    "        NxtPairs = curr.next.next\n",
    "        second = curr.next\n",
    "\n",
    "        second.next = curr\n",
    "        curr.next = NxtPairs\n",
    "        prev.next = second\n",
    "\n",
    "        prev = curr\n",
    "        curr = NxtPairs\n",
    "\n",
    "    return dummy.next\n",
    "\n",
    "print(\"After swaping : \", swapPairs(b))"
   ]
  },
  {
   "cell_type": "markdown",
   "metadata": {},
   "source": [
    "# 65. Partition equal Subset Sum"
   ]
  },
  {
   "cell_type": "code",
   "execution_count": 141,
   "metadata": {},
   "outputs": [
    {
     "name": "stdout",
     "output_type": "stream",
     "text": [
      "{0, 5}\n",
      "{0, 16, 11, 5}\n",
      "{0, 5, 10, 11, 16, 21}\n",
      "{0, 1, 5, 6, 10, 11, 12, 16, 17, 21, 22}\n"
     ]
    },
    {
     "data": {
      "text/plain": [
       "True"
      ]
     },
     "execution_count": 141,
     "metadata": {},
     "output_type": "execute_result"
    }
   ],
   "source": [
    "def canPartition(nums):\n",
    "    k = sum(nums)\n",
    "    if k%2:\n",
    "        return False\n",
    "    target = k//2\n",
    "    dp = {0}\n",
    "    for i in range(len(nums)-1,-1,-1):\n",
    "        nextDp = set()\n",
    "        for t in dp:\n",
    "            nextDp.add(t)\n",
    "            nextDp.add(t+nums[i])\n",
    "        dp = nextDp\n",
    "        print(dp)\n",
    "    return True if target in dp else False \n",
    "\n",
    "canPartition([1,5,11,5])"
   ]
  },
  {
   "cell_type": "markdown",
   "metadata": {},
   "source": [
    "# 66. Search A 2D Matrix"
   ]
  },
  {
   "cell_type": "code",
   "execution_count": 152,
   "metadata": {},
   "outputs": [
    {
     "data": {
      "text/plain": [
       "array([[ 5,  7,  7],\n",
       "       [ 9, 11, 21],\n",
       "       [24, 31, 32],\n",
       "       [39, 45, 45]])"
      ]
     },
     "execution_count": 152,
     "metadata": {},
     "output_type": "execute_result"
    }
   ],
   "source": [
    "matrix = np.sort(np.random.randint(1,50,size=12))\n",
    "matrix = matrix.reshape((4,3))\n",
    "matrix"
   ]
  },
  {
   "cell_type": "code",
   "execution_count": 160,
   "metadata": {},
   "outputs": [
    {
     "data": {
      "text/plain": [
       "True"
      ]
     },
     "execution_count": 160,
     "metadata": {},
     "output_type": "execute_result"
    }
   ],
   "source": [
    "def searchMatrix(mat,target):\n",
    "    ROWS, COLS = len(mat), len(mat[0])\n",
    "\n",
    "    top, bot = 0, ROWS -1 \n",
    "    while top <= bot:\n",
    "        row = (top+bot)//2\n",
    "        if target > mat[row][-1]:\n",
    "            top = row + 1\n",
    "        elif target < mat[row][0]:\n",
    "            bot = row - 1\n",
    "        else:\n",
    "            break\n",
    "    \n",
    "    if not(top <= bot):\n",
    "        return False\n",
    "    \n",
    "    l,r = 0, COLS - 1\n",
    "    while l<= r:\n",
    "        m = (l+r)//2\n",
    "        if target > mat[row][m] :\n",
    "            l = m + 1\n",
    "        elif target < mat[row][m]:\n",
    "            r = m - 1\n",
    "        else:\n",
    "            return True\n",
    "        \n",
    "    return False\n",
    "\n",
    "\n",
    "searchMatrix(matrix,24)"
   ]
  },
  {
   "cell_type": "markdown",
   "metadata": {},
   "source": [
    "# 67. Good Node"
   ]
  },
  {
   "cell_type": "code",
   "execution_count": 413,
   "metadata": {},
   "outputs": [
    {
     "data": {
      "text/plain": [
       "<module 'Helper_function' from '/Users/badremhiouah/Desktop/Python/Leetcode_Problems/Helper_function.py'>"
      ]
     },
     "execution_count": 413,
     "metadata": {},
     "output_type": "execute_result"
    }
   ],
   "source": [
    "import importlib\n",
    "importlib.reload(Helper_function)\n",
    "from Helper_function import Root"
   ]
  },
  {
   "cell_type": "code",
   "execution_count": 212,
   "metadata": {},
   "outputs": [
    {
     "data": {
      "text/plain": [
       "Root: 5\n",
       "  L--- 3\n",
       "  R--- 7\n",
       "    R--- 10\n",
       "      L--- 9"
      ]
     },
     "execution_count": 212,
     "metadata": {},
     "output_type": "execute_result"
    }
   ],
   "source": [
    "a = Root(5)\n",
    "for i in range(7):\n",
    "    a.insert(random.randint(1,10))\n",
    "a"
   ]
  },
  {
   "cell_type": "code",
   "execution_count": 213,
   "metadata": {},
   "outputs": [
    {
     "data": {
      "text/plain": [
       "Root: 3\n",
       "  L--- 1\n",
       "    L--- 3\n",
       "  R--- 4\n",
       "    L--- 1\n",
       "    R--- 5"
      ]
     },
     "execution_count": 213,
     "metadata": {},
     "output_type": "execute_result"
    }
   ],
   "source": [
    "a = Root(3)\n",
    "a.left = Root(1)\n",
    "a.left.left = Root(3)\n",
    "a.right = Root(4)\n",
    "a.right.right = Root(5)\n",
    "a.right.left = Root(1)\n",
    "a"
   ]
  },
  {
   "cell_type": "code",
   "execution_count": 219,
   "metadata": {},
   "outputs": [
    {
     "data": {
      "text/plain": [
       "5"
      ]
     },
     "execution_count": 219,
     "metadata": {},
     "output_type": "execute_result"
    }
   ],
   "source": [
    "def CountgoodNode(root):\n",
    "    count = 0\n",
    "\n",
    "    def dfs(root,maxi):\n",
    "        nonlocal count\n",
    "        if not root:\n",
    "            return\n",
    "        if root.val < maxi:\n",
    "            dfs(root.left,maxi)\n",
    "            dfs(root.right,maxi)\n",
    "        else:\n",
    "            maxi = max(maxi, root.val)\n",
    "            count += 1\n",
    "            dfs(root.left,maxi)\n",
    "            dfs(root.right,maxi)\n",
    "    maxi = -float('inf')\n",
    "    dfs(root,maxi)\n",
    "    return count\n",
    "\n",
    "\n",
    "CountgoodNode(b)"
   ]
  },
  {
   "cell_type": "code",
   "execution_count": 214,
   "metadata": {},
   "outputs": [],
   "source": [
    "a = [-1,5,-2,4,4,2,-2,\"null\",\"null\",-4,\"null\",-2,3,\"null\",-2,0,\"null\",-1,\"null\",-3,\"null\",-4,-3,3,\"null\",\"null\",\"null\",\"null\",\"null\",\"null\",\"null\",3,-3]\n",
    "b = []\n",
    "for ele in a:\n",
    "    try:\n",
    "        ele = int(ele)\n",
    "        b.append(ele)\n",
    "    except:\n",
    "        b.append(None)\n",
    "\n",
    "b = Root.build_tree_from_list(b)"
   ]
  },
  {
   "cell_type": "markdown",
   "metadata": {},
   "source": [
    "# 68. Insert Interval"
   ]
  },
  {
   "cell_type": "code",
   "execution_count": null,
   "metadata": {},
   "outputs": [],
   "source": [
    "def insertinterval(intervals, new_inter ):\n",
    "    res = []\n",
    "    for i in range(intervals):\n",
    "        if new_inter[0] > intervals[i][1]:\n",
    "            res.append(intervals[i])\n",
    "        elif new_inter[1] < intervals[i][0]:\n",
    "            res.append(new_inter)\n",
    "            return res + intervals[i:] \n",
    "        else:\n",
    "            new_inter = [min(new_inter[0],intervals[i][0]), max(new_inter[1],intervals[i][1])]\n",
    "    res.append(new_inter)\n",
    "    return res\n",
    "\n",
    "\n"
   ]
  },
  {
   "cell_type": "markdown",
   "metadata": {},
   "source": [
    "# 69. Perfect Squares"
   ]
  },
  {
   "cell_type": "code",
   "execution_count": 242,
   "metadata": {},
   "outputs": [
    {
     "data": {
      "text/plain": [
       "[0, 5, 5, 5, 1, 2]"
      ]
     },
     "execution_count": 242,
     "metadata": {},
     "output_type": "execute_result"
    }
   ],
   "source": [
    "# the question is how many perfect square do we need to sum up to the number given\n",
    "\n",
    "def PerfecSquare(num):\n",
    "    # The worst that can be done is n (as 1^2 is equal to 1)\n",
    "    dp = [num]*(num+1)\n",
    "    dp[0] = 0\n",
    "    for i in range(1, num+1):\n",
    "        for k in range(i-1,0,-1):\n",
    "            if k**2 > i:\n",
    "                continue\n",
    "            else:\n",
    "                dp[i] = min(dp[i], dp[i-k**2] + 1)\n",
    "\n",
    "    return dp\n",
    "\n",
    "\n",
    "PerfecSquare(5)\n"
   ]
  },
  {
   "cell_type": "markdown",
   "metadata": {},
   "source": [
    "# 71. Graph valid tree"
   ]
  },
  {
   "cell_type": "code",
   "execution_count": 270,
   "metadata": {},
   "outputs": [],
   "source": [
    "def graphValidTree(n,adj):\n",
    "\n",
    "    neigh = {i:[] for i in range(n)}\n",
    "    for a,b in adj:\n",
    "        neigh[a].append(b)\n",
    "        neigh[b].append(a)\n",
    "    visited = set()\n",
    "    prev = []\n",
    "    end = False\n",
    "    def dfs(k,prev):\n",
    "        nonlocal end\n",
    "        if end:\n",
    "            return\n",
    "        if k in visited:\n",
    "            end = True\n",
    "            return \n",
    "        visited.add(k)\n",
    "        for ele in neigh[k]:\n",
    "            if ele not in prev:\n",
    "                dfs(ele,[k])\n",
    "\n",
    "    dfs(0,prev)\n",
    "    return not end and len(visited)==n\n"
   ]
  },
  {
   "cell_type": "code",
   "execution_count": 271,
   "metadata": {},
   "outputs": [
    {
     "data": {
      "text/plain": [
       "True"
      ]
     },
     "execution_count": 271,
     "metadata": {},
     "output_type": "execute_result"
    }
   ],
   "source": [
    "exemple = [[0,1],[0,2],[0,3],[1,4]]\n",
    "graphValidTree(5,exemple)"
   ]
  },
  {
   "cell_type": "code",
   "execution_count": 269,
   "metadata": {},
   "outputs": [],
   "source": [
    "import networkx as nx\n",
    "import matplotlib.pyplot as plt\n",
    "\n",
    "def visualize_graph(n,edges):\n",
    "    # Create an undirected graph\n",
    "    G = nx.Graph()\n",
    "\n",
    "    G.add_nodes_from(range(n))\n",
    "    \n",
    "    # Add edges to the graph\n",
    "    G.add_edges_from(edges)\n",
    "    \n",
    "    # Draw the graph\n",
    "    plt.figure(figsize=(8, 6))\n",
    "    pos = nx.spring_layout(G)  # positions for all nodes\n",
    "    nx.draw(G, pos, with_labels=True, node_size=700, node_color='skyblue', font_size=16, font_color='black', edge_color='gray')\n",
    "    \n",
    "    # Show the plot\n",
    "    plt.show()\n"
   ]
  },
  {
   "cell_type": "code",
   "execution_count": 389,
   "metadata": {},
   "outputs": [
    {
     "name": "stdout",
     "output_type": "stream",
     "text": [
      "True\n"
     ]
    },
    {
     "data": {
      "image/png": "[encoded data removed]",
      "text/plain": [
       "<Figure size 800x600 with 1 Axes>"
      ]
     },
     "metadata": {},
     "output_type": "display_data"
    }
   ],
   "source": [
    "def generate_random_edge_list(num_nodes, num_edges):\n",
    "    # Ensure the number of edges does not exceed the maximum possible for an undirected graph\n",
    "    max_edges = num_nodes * (num_nodes - 1) // 2\n",
    "    if num_edges > max_edges:\n",
    "        raise ValueError(f\"Too many edges. Maximum possible edges for {num_nodes} nodes is {max_edges}.\")\n",
    "\n",
    "    # Initialize an empty set to store unique edges\n",
    "    edges = set()\n",
    "    while len(edges) < num_edges:\n",
    "        u = random.randint(0, num_nodes - 1)\n",
    "        v = random.randint(0, num_nodes - 1)\n",
    "        \n",
    "        # Ensure no self-loops and no duplicate edges (for undirected graph, (u, v) is same as (v, u))\n",
    "        if u != v and (u, v) not in edges and (v, u) not in edges:\n",
    "            edges.add((u, v))\n",
    "\n",
    "    # Convert the set of edges to a list of tuples\n",
    "    edge_list = list(edges)\n",
    "    \n",
    "    return edge_list\n",
    "\n",
    "# Example usage\n",
    "num_nodes = 4\n",
    "num_edges = 3\n",
    "edge_list = generate_random_edge_list(num_nodes, num_edges)\n",
    "\n",
    "print(graphValidTree(num_nodes,edge_list))\n",
    "visualize_graph(num_nodes, edge_list)\n"
   ]
  },
  {
   "cell_type": "code",
   "execution_count": 385,
   "metadata": {},
   "outputs": [
    {
     "name": "stdout",
     "output_type": "stream",
     "text": [
      "{'A': 0, 'B': 1, 'C': 3, 'D': 4}\n"
     ]
    }
   ],
   "source": [
    "\n",
    "def dijkstra(graph, start):\n",
    "    heap = [(0,start)]\n",
    "    distances = {start:0}\n",
    "    visited = set()\n",
    "\n",
    "    while heap:\n",
    "        current_distance, current_node = heapq.heappop(heap)\n",
    "\n",
    "        if current_node in visited:\n",
    "            continue\n",
    "\n",
    "        visited.add(current_node)\n",
    "\n",
    "        for neigh, dist in graph[current_node]:\n",
    "            distance = current_distance + dist\n",
    "            if neigh not in distances or distance < distances[neigh]:\n",
    "                distances[neigh] = distance \n",
    "                heapq.heappush(heap,(distance,neigh))\n",
    "\n",
    "    return distances\n",
    "    \n",
    "\n",
    "# Example usage:\n",
    "graph = {\n",
    "    'A': [('B', 1), ('C', 4)],\n",
    "    'B': [('A', 1), ('C', 2), ('D', 5)],\n",
    "    'C': [('A', 4), ('B', 2), ('D', 1)],\n",
    "    'D': [('B', 5), ('C', 1)]\n",
    "}\n",
    "\n",
    "start_node = 'A'\n",
    "distances = dijkstra(graph, start_node)\n",
    "print(distances)\n"
   ]
  },
  {
   "cell_type": "markdown",
   "metadata": {},
   "source": [
    "# 72. Network delay times"
   ]
  },
  {
   "cell_type": "code",
   "execution_count": 398,
   "metadata": {},
   "outputs": [
    {
     "name": "stdout",
     "output_type": "stream",
     "text": [
      "{1: [], 2: [], 3: [], 4: []}\n"
     ]
    },
    {
     "data": {
      "text/plain": [
       "2"
      ]
     },
     "execution_count": 398,
     "metadata": {},
     "output_type": "execute_result"
    }
   ],
   "source": [
    "def networkDelays(num, edge_weight, start):\n",
    "    neigh = {i:[] for i in range(1,num+1)}\n",
    "    print(neigh)\n",
    "    for u,v,w in edge_weight:\n",
    "        neigh[u].append((w,v))\n",
    "    heap = [(0,start)]\n",
    "    t = 0\n",
    "    visited = set()\n",
    "\n",
    "    while heap:\n",
    "        curr_dist, curr_node = heapq.heappop(heap)\n",
    "\n",
    "        if curr_node in visited:\n",
    "            print(\"we here\")\n",
    "            continue\n",
    "\n",
    "        visited.add(curr_node)\n",
    "        t = max(t,curr_dist)\n",
    "\n",
    "        for weight, ele in neigh[curr_node]:\n",
    "            if ele not in visited:\n",
    "                heapq.heappush(heap,(weight+ curr_dist,ele))\n",
    "\n",
    "    return t if len(visited) == num else -1\n",
    "\n",
    "\n",
    "\n",
    "exemple = [\"211\",\"231\",\"341\"]\n",
    "exemple = [list(ele) for ele in exemple]\n",
    "matrix_int = [[int(element) for element in row] for row in exemple]\n",
    "\n",
    "\n",
    "networkDelays(4,matrix_int,2)\n",
    "\n",
    "\n"
   ]
  },
  {
   "cell_type": "markdown",
   "metadata": {},
   "source": [
    "# 73. Maximum Alternating Subsequence"
   ]
  },
  {
   "cell_type": "code",
   "execution_count": 403,
   "metadata": {},
   "outputs": [],
   "source": [
    "def Max_altern_sub(nums):\n",
    "    max_odd , max_even = nums[0],0\n",
    "    for i in range(1,len(nums)):\n",
    "        temp = max_even\n",
    "        max_odd = max(max_odd, nums[i] + temp)\n",
    "        max_even = max(max_even, max_odd - nums[i])\n",
    "\n",
    "    return max_odd\n"
   ]
  },
  {
   "cell_type": "code",
   "execution_count": 404,
   "metadata": {},
   "outputs": [],
   "source": [
    "# 74. House Robber"
   ]
  },
  {
   "cell_type": "code",
   "execution_count": 420,
   "metadata": {},
   "outputs": [],
   "source": [
    "import importlib\n",
    "importlib.reload(Helper_function)\n",
    "from Helper_function import Root"
   ]
  },
  {
   "cell_type": "code",
   "execution_count": 421,
   "metadata": {},
   "outputs": [
    {
     "name": "stdout",
     "output_type": "stream",
     "text": [
      "Root: 4\n",
      "  L--- 1\n",
      "    L--- 2\n",
      "\n"
     ]
    },
    {
     "data": {
      "text/plain": [
       "6"
      ]
     },
     "execution_count": 421,
     "metadata": {},
     "output_type": "execute_result"
    }
   ],
   "source": [
    "def houseRobber(houses):\n",
    "\n",
    "    def dfs(root):\n",
    "        if not root:\n",
    "            return [0,0]\n",
    "        \n",
    "        left_pairs = dfs(root.left)\n",
    "        right_pairs = dfs(root.right)\n",
    "\n",
    "        with_root = root.val + left_pairs[1] + right_pairs[1]\n",
    "        without_root = max(left_pairs) + max(right_pairs)\n",
    "\n",
    "        return [with_root,without_root]\n",
    "    \n",
    "    return max(dfs(houses))\n",
    "\n",
    "\n",
    "house = [4,1,None,2,None,3]\n",
    "\n",
    "house = Root.build_tree_from_list(house)\n",
    "print(house)\n",
    "\n",
    "houseRobber(house)\n",
    "\n",
    "\n",
    "    "
   ]
  },
  {
   "cell_type": "markdown",
   "metadata": {},
   "source": [
    "# 75. Decode String"
   ]
  },
  {
   "cell_type": "code",
   "execution_count": 425,
   "metadata": {},
   "outputs": [
    {
     "data": {
      "text/plain": [
       "'abccabccabcc'"
      ]
     },
     "execution_count": 425,
     "metadata": {},
     "output_type": "execute_result"
    }
   ],
   "source": [
    "def decode(s):\n",
    "    stack = []\n",
    "\n",
    "    for ele in s:\n",
    "        if ele != \"]\":\n",
    "            stack.append(ele)\n",
    "        else :\n",
    "            sub = \"\"\n",
    "            while stack and stack[-1] != \"[\":\n",
    "                sub = stack.pop() + sub\n",
    "            stack.pop()\n",
    "            k = \"\"\n",
    "            while stack and stack[-1].isdigit():\n",
    "                k = stack.pop() + k\n",
    "\n",
    "            stack.append(int(k)*sub)\n",
    "\n",
    "    return \"\".join(stack)\n",
    "\n",
    "\n",
    "a = \"3[ab2[c]]\"\n",
    "decode(a)\n",
    "\n"
   ]
  },
  {
   "cell_type": "markdown",
   "metadata": {},
   "source": [
    "# 78. Frequency of the most frequent element"
   ]
  },
  {
   "cell_type": "code",
   "execution_count": 437,
   "metadata": {},
   "outputs": [
    {
     "data": {
      "text/plain": [
       "1"
      ]
     },
     "execution_count": 437,
     "metadata": {},
     "output_type": "execute_result"
    }
   ],
   "source": [
    "exemple = [3,9,6]\n",
    "k = 2\n",
    "\n",
    "\n",
    "def freqcyMostfreq(nums, k):\n",
    "\n",
    "    nums.sort()\n",
    "    \n",
    "    if len(nums) == 0:\n",
    "        return 0\n",
    "    \n",
    "    l,r = 0, 0\n",
    "    windowlen = 1\n",
    "    total = nums[0]\n",
    "    res = 0\n",
    "\n",
    "    while r < len(nums):\n",
    "        while nums[r]* windowlen <= total + k:\n",
    "            r += 1\n",
    "            res = max(res,windowlen)\n",
    "            if r == len(nums):\n",
    "                break\n",
    "            total += nums[r]\n",
    "            windowlen += 1\n",
    "        while r < len(nums) and not nums[r]* windowlen <= total + k:\n",
    "            total -= nums[l]\n",
    "            l += 1\n",
    "            windowlen -= 1\n",
    "    return res\n",
    "\n",
    "\n",
    "freqcyMostfreq(exemple,2)\n"
   ]
  },
  {
   "cell_type": "markdown",
   "metadata": {},
   "source": [
    "# 78. Maximum Subarray Min-product"
   ]
  },
  {
   "cell_type": "code",
   "execution_count": 442,
   "metadata": {},
   "outputs": [],
   "source": [
    "def maxSubMinProduct(nums):\n",
    "\n",
    "    stack = []\n",
    "    res = 0\n",
    "    prefixe = [0]\n",
    "    for ele in nums:\n",
    "        prefixe.append(prefixe[-1]+ ele)\n",
    "\n",
    "    for i,n in enumerate(nums):\n",
    "        newstart = i\n",
    "        while stack and stack[-1][1] > n:\n",
    "            start, val = stack.pop()\n",
    "            total = prefixe[i] - prefixe[start]\n",
    "            res = max(total*val,res)\n",
    "            newstart = start\n",
    "\n",
    "        stack.append((newstart,n))\n",
    "\n",
    "    while stack:\n",
    "        start,val = stack.pop()\n",
    "        total = prefixe[-1] - prefixe[start]\n",
    "        res = max(total*val,res)\n",
    "\n",
    "    return res"
   ]
  },
  {
   "cell_type": "markdown",
   "metadata": {},
   "source": [
    "# 79. Jump game VII"
   ]
  },
  {
   "cell_type": "code",
   "execution_count": 466,
   "metadata": {},
   "outputs": [],
   "source": [
    "from collections import deque"
   ]
  },
  {
   "cell_type": "code",
   "execution_count": 452,
   "metadata": {},
   "outputs": [
    {
     "data": {
      "text/plain": [
       "True"
      ]
     },
     "execution_count": 452,
     "metadata": {},
     "output_type": "execute_result"
    }
   ],
   "source": [
    "def canReach(s,minjump,maxjump):\n",
    "    visited = set()\n",
    "    def bfs(index):\n",
    "        if index == len(s)-1 and s[index]== '0':\n",
    "            visited.add(index)\n",
    "            return\n",
    "        \n",
    "        if s[index] == '0':\n",
    "            visited.add(index)\n",
    "            for i in range(index+minjump,index+maxjump+1):\n",
    "                if i < len(s) and i not in visited and s[i]=='0':\n",
    "                    bfs(i)\n",
    "    bfs(0)  \n",
    "    return len(s)-1 in visited\n",
    "\n",
    "s = \"011010\"\n",
    "minjump = 2\n",
    "maxjump = 3\n",
    "\n",
    "canReach(s,minjump,maxjump)"
   ]
  },
  {
   "cell_type": "code",
   "execution_count": 470,
   "metadata": {},
   "outputs": [
    {
     "data": {
      "text/plain": [
       "True"
      ]
     },
     "execution_count": 470,
     "metadata": {},
     "output_type": "execute_result"
    }
   ],
   "source": [
    "def canReach(s,minJump,maxJump):\n",
    "    q = deque([0])\n",
    "    farthest = 0\n",
    "\n",
    "    while q:\n",
    "        index = q.popleft()\n",
    "        start = max(index+minJump,farthest)\n",
    "        for ele in range(start, min(len(s),index+maxJump+1)):\n",
    "            if s[ele]=='0':\n",
    "                if ele == len(s)-1:\n",
    "                    return True\n",
    "                q.append(ele)\n",
    "\n",
    "        farthest = ele\n",
    "\n",
    "    return False\n",
    "\n",
    "s = \"011010\"\n",
    "minjump = 2\n",
    "maxjump = 3\n",
    "\n",
    "canReach(s,minjump,maxjump)"
   ]
  },
  {
   "cell_type": "markdown",
   "metadata": {},
   "source": [
    "# 81. Combination Sum II"
   ]
  },
  {
   "cell_type": "code",
   "execution_count": 481,
   "metadata": {},
   "outputs": [
    {
     "name": "stdout",
     "output_type": "stream",
     "text": [
      "[1, 1, 2, 5, 6, 7, 10]\n"
     ]
    },
    {
     "data": {
      "text/plain": [
       "[[1, 1, 6], [1, 2, 5], [1, 7], [2, 6]]"
      ]
     },
     "execution_count": 481,
     "metadata": {},
     "output_type": "execute_result"
    }
   ],
   "source": [
    "def combSumII(candidates,target):\n",
    "\n",
    "    candidates.sort()\n",
    "    res = []\n",
    "    stack = []\n",
    "    print(candidates)\n",
    "    def backtrack(pos,target):\n",
    "        if target == 0:\n",
    "            res.append(stack.copy())\n",
    "        if target <= 0:\n",
    "            return\n",
    "        \n",
    "        prev = -1\n",
    "        for i in range(pos,len(candidates)):\n",
    "            if candidates[i] == prev:\n",
    "                continue\n",
    "            stack.append(candidates[i])\n",
    "            backtrack(i+1,target-candidates[i])\n",
    "            stack.pop()\n",
    "            prev = candidates[i]\n",
    "        \n",
    "    backtrack(0,target)\n",
    "    return res\n",
    "\n",
    "\n",
    "exemple = [10, 1, 2, 7, 6,1, 5]\n",
    "\n",
    "target = 8\n",
    "\n",
    "combSumII(exemple,target)"
   ]
  },
  {
   "cell_type": "markdown",
   "metadata": {},
   "source": [
    "# 82. Combination Sum"
   ]
  },
  {
   "cell_type": "code",
   "execution_count": 484,
   "metadata": {},
   "outputs": [
    {
     "data": {
      "text/plain": [
       "{0: 1, 1: 1, 2: 2, 3: 4, 4: 7}"
      ]
     },
     "execution_count": 484,
     "metadata": {},
     "output_type": "execute_result"
    }
   ],
   "source": [
    "def combSumVII(nums,target):\n",
    "\n",
    "    dp = {0:1}\n",
    "\n",
    "    for i in range(1,target+1):\n",
    "        dp[i] = 0\n",
    "        for ele in nums:\n",
    "            dp[i] += dp.get(i-ele,0)\n",
    "\n",
    "    return dp\n",
    "\n",
    "combSumVII([1,2,3],4)\n"
   ]
  },
  {
   "cell_type": "markdown",
   "metadata": {},
   "source": [
    "# 84. Sort List"
   ]
  },
  {
   "cell_type": "code",
   "execution_count": 519,
   "metadata": {},
   "outputs": [
    {
     "name": "stdout",
     "output_type": "stream",
     "text": [
      "0 -> 2 -> 3 -> 4\n"
     ]
    }
   ],
   "source": [
    "a = ListNode()\n",
    "a.next = ListNode(2)\n",
    "a.next.next = ListNode(3)\n",
    "a.next.next.next = ListNode(4)\n",
    "\n",
    "print(a)\n"
   ]
  },
  {
   "cell_type": "code",
   "execution_count": 537,
   "metadata": {},
   "outputs": [
    {
     "name": "stdout",
     "output_type": "stream",
     "text": [
      "myright 3 -> 4\n",
      "myright 3 -> 4\n",
      "0 -> 2\n",
      "3 -> 4\n"
     ]
    }
   ],
   "source": [
    "a = ListNode()\n",
    "a.next = ListNode(2)\n",
    "a.next.next = ListNode(3)\n",
    "a.next.next.next = ListNode(4)\n",
    "\n",
    "def split(head):\n",
    "    slow,fast = head,head.next\n",
    "    left = slow\n",
    "    while fast and fast.next:\n",
    "        slow = slow.next\n",
    "        fast = fast.next.next\n",
    "    # right = ListNode(0,slow.next)\n",
    "    right = slow.next\n",
    "    print(\"myright\", right)\n",
    "    slow.next = None\n",
    "    print(\"myright\", right)\n",
    "    \n",
    "    return left,right\n",
    "\n",
    "\n",
    "y,z = split(a)\n",
    "print(y)\n",
    "print(z)"
   ]
  },
  {
   "cell_type": "markdown",
   "metadata": {},
   "source": [
    "# 85. Process tasks using servers"
   ]
  },
  {
   "cell_type": "code",
   "execution_count": 1,
   "metadata": {},
   "outputs": [],
   "source": [
    "# Skip"
   ]
  },
  {
   "cell_type": "markdown",
   "metadata": {},
   "source": [
    "# 86. Single Threaded CPU"
   ]
  },
  {
   "cell_type": "code",
   "execution_count": 4,
   "metadata": {},
   "outputs": [
    {
     "data": {
      "text/plain": [
       "[0, 2, 3, 1]"
      ]
     },
     "execution_count": 4,
     "metadata": {},
     "output_type": "execute_result"
    }
   ],
   "source": [
    "import heapq\n",
    "def SinglethreadCPU(tasks):\n",
    "\n",
    "    for i,t in enumerate(tasks):\n",
    "        t.append(i)\n",
    "\n",
    "    minHeap = []\n",
    "    res = []\n",
    "    time = tasks[0][0]\n",
    "    i = 0\n",
    "\n",
    "    while minHeap or i < len(tasks):\n",
    "        while i < len(tasks) and time >= tasks[i][0]:\n",
    "            heapq.heappush(minHeap, [tasks[i][1],tasks[i][2]])\n",
    "            i += 1\n",
    "        if minHeap:\n",
    "            procTime, index = heapq.heappop(minHeap)\n",
    "            time += procTime\n",
    "            res.append(index)\n",
    "        else:\n",
    "            time = tasks[i][0]\n",
    "    return res\n",
    "\n",
    "exemple = [[1,2],[2,4],[3,2],[4,1]]\n",
    "SinglethreadCPU(exemple)"
   ]
  },
  {
   "cell_type": "markdown",
   "metadata": {},
   "source": [
    "# 87. Redundant Cycle in graph: Union Find"
   ]
  },
  {
   "cell_type": "code",
   "execution_count": 13,
   "metadata": {},
   "outputs": [
    {
     "data": {
      "text/plain": [
       "[3, 1]"
      ]
     },
     "execution_count": 13,
     "metadata": {},
     "output_type": "execute_result"
    }
   ],
   "source": [
    "def FindCycle(edges):\n",
    "    par = [i for i in range(len(edges) + 1)]\n",
    "    rank = [1]*(len(edges)+1)\n",
    "\n",
    "    def find(n):\n",
    "        p = par[n]\n",
    "        while p != par[p]:\n",
    "            p = par[par[p]]\n",
    "        return p\n",
    "    \n",
    "    def union(n1,n2):\n",
    "        p1 = find(n1)\n",
    "        p2 = find(n2)\n",
    "        if p1 == p2:\n",
    "            return False\n",
    "        if rank[p1] > rank[p2]:\n",
    "            rank[p1] += rank[p2]\n",
    "            par[n2] = p1\n",
    "        else:\n",
    "            rank[p2] += rank[p1]\n",
    "            par[n1] = p2\n",
    "        return True\n",
    "\n",
    "    for a,b in edges:\n",
    "        if not union(a,b):\n",
    "            return [a,b]\n",
    "        \n",
    "\n",
    "exemple = [[1,2],[2,3],[3,1]]\n",
    "FindCycle(exemple)"
   ]
  },
  {
   "cell_type": "markdown",
   "metadata": {},
   "source": [
    "# 88. Number of subsequence that satisfy min+ max <= target"
   ]
  },
  {
   "cell_type": "code",
   "execution_count": 31,
   "metadata": {},
   "outputs": [
    {
     "name": "stdout",
     "output_type": "stream",
     "text": [
      "0 0\n"
     ]
    },
    {
     "data": {
      "text/plain": [
       "0"
      ]
     },
     "execution_count": 31,
     "metadata": {},
     "output_type": "execute_result"
    }
   ],
   "source": [
    "def NumSubCond(nums,target):\n",
    "    nums.sort()\n",
    "\n",
    "    l,r = 0, len(nums)-1\n",
    "    res = 0\n",
    "\n",
    "    while l <= r:   \n",
    "        while r>=0 and nums[l] + nums[r] > target:\n",
    "            r -= 1\n",
    "        if r>= l:\n",
    "            res += 1 << (r-l)\n",
    "            l+= 1\n",
    "\n",
    "    return res \n",
    "\n",
    "NumSubCond([1],1)"
   ]
  },
  {
   "cell_type": "markdown",
   "metadata": {},
   "source": [
    "# 89. Daily temperatures"
   ]
  },
  {
   "cell_type": "code",
   "execution_count": 31,
   "metadata": {},
   "outputs": [
    {
     "name": "stdout",
     "output_type": "stream",
     "text": [
      "[[0, 73]] 74\n",
      "[[1, 74]] 75\n",
      "[[2, 75], [3, 71], [4, 69]] 72\n",
      "[[2, 75], [3, 71]] 72\n",
      "[[2, 75], [5, 72]] 76\n",
      "[[2, 75]] 76\n"
     ]
    },
    {
     "data": {
      "text/plain": [
       "[1, 1, 4, 2, 1, 1, 0]"
      ]
     },
     "execution_count": 31,
     "metadata": {},
     "output_type": "execute_result"
    }
   ],
   "source": [
    "import heapq\n",
    "def DailyTemp(nums):\n",
    "    n = len(nums)\n",
    "    stack = []\n",
    "    i = 0\n",
    "    temp = nums[0]\n",
    "    res = [0 for i in range(n)]\n",
    "\n",
    "    while i < n:\n",
    "        while i < n and nums[i] <= temp:\n",
    "            stack.append([i,nums[i]])\n",
    "            temp = nums[i]\n",
    "            i += 1\n",
    "\n",
    "\n",
    "        while i<n and stack and stack[-1][1] < nums[i]:\n",
    "            print(stack, nums[i])\n",
    "            rank, new_temp = stack.pop()\n",
    "            res[rank] = i - rank\n",
    "\n",
    "        if i < n:    \n",
    "            temp = nums[i]\n",
    "\n",
    "    return res\n",
    "\n",
    "     \n",
    "\n",
    "\n",
    "exemple = [73,74,75,71,69,72,76]\n",
    "\n",
    "DailyTemp(exemple)\n"
   ]
  },
  {
   "cell_type": "code",
   "execution_count": 46,
   "metadata": {},
   "outputs": [
    {
     "data": {
      "text/plain": [
       "10"
      ]
     },
     "execution_count": 46,
     "metadata": {},
     "output_type": "execute_result"
    }
   ],
   "source": [
    "def paintHouses(houses):\n",
    "\n",
    "    dp = [[0,0,0]]\n",
    "\n",
    "    for i,house in enumerate(houses):\n",
    "        dp.append([house[0]+ min(dp[-1][1],dp[-1][2]),house[1]+ min(dp[-1][0],dp[-1][2]),house[2]+ min(dp[-1][0],dp[-1][1])])\n",
    "\n",
    "    return min(dp[-1])\n",
    "        \n",
    "\n",
    "exemple = [[17,2,17],[16,16,5],[14,3,19]]\n",
    "paintHouses(exemple)\n",
    "    "
   ]
  },
  {
   "cell_type": "code",
   "execution_count": 67,
   "metadata": {},
   "outputs": [
    {
     "name": "stdout",
     "output_type": "stream",
     "text": [
      "[0, 1, 2, 3, 4, 5, 5, 5, 6, 7]\n",
      "{'c': [0], 'k': [1], 'a': [2, 5], 'f': [3, 6], 'n': [4], 'q': [7], 'o': [8]}\n"
     ]
    },
    {
     "data": {
      "text/plain": [
       "4"
      ]
     },
     "execution_count": 67,
     "metadata": {},
     "output_type": "execute_result"
    }
   ],
   "source": [
    "from collections import defaultdict\n",
    "def countpalindromlen3(s):\n",
    "    \n",
    "    place = defaultdict(list)\n",
    "    res = 0\n",
    "\n",
    "    for i,ele in enumerate(s):\n",
    "        if ele not in place:\n",
    "            place[ele].append(i)\n",
    "        elif ele in place and len(place[ele])==1:\n",
    "            place[ele].append(i)\n",
    "        else:\n",
    "            place[ele][-1]=i\n",
    "\n",
    "    for ele in place:\n",
    "        if len(place[ele])==2:\n",
    "\n",
    "            res += len(set(s[place[ele][0]+1:place[ele][1]]))\n",
    "    \n",
    "    return res\n",
    "\n",
    "countpalindromlen3(\"ckafnafqo\")\n",
    "        \n"
   ]
  },
  {
   "cell_type": "code",
   "execution_count": 72,
   "metadata": {},
   "outputs": [
    {
     "data": {
      "text/plain": [
       "'dfizdi'"
      ]
     },
     "execution_count": 72,
     "metadata": {},
     "output_type": "execute_result"
    }
   ],
   "source": [
    "a = \"dfizdih\"\n",
    "a[:len(a)-1]"
   ]
  },
  {
   "cell_type": "code",
   "execution_count": 77,
   "metadata": {},
   "outputs": [
    {
     "data": {
      "text/plain": [
       "False"
      ]
     },
     "execution_count": 77,
     "metadata": {},
     "output_type": "execute_result"
    }
   ],
   "source": [
    "def splitstring(s):\n",
    "    def dfs(index,prev):\n",
    "        if index == len(s):\n",
    "            return True\n",
    "\n",
    "        for i in range(index,len(s)):\n",
    "            val = int(s[index:i+1])\n",
    "            if val + 1 == prev and dfs(i+1,val):\n",
    "                return True\n",
    "        return False\n",
    "\n",
    "\n",
    "    for j in range(len(s)-1):\n",
    "        val = int(s[:j+1])\n",
    "        if dfs(j+1,val): return True\n",
    "    return False\n",
    "\n",
    "\n",
    "splitstring(\"432110\")"
   ]
  },
  {
   "cell_type": "code",
   "execution_count": 78,
   "metadata": {},
   "outputs": [
    {
     "data": {
      "text/plain": [
       "7"
      ]
     },
     "execution_count": 78,
     "metadata": {},
     "output_type": "execute_result"
    }
   ],
   "source": [
    "def minimumPathSum(mat):\n",
    "    rows, cols = len(mat), len(mat[0])\n",
    "\n",
    "    for i in range(rows-1):\n",
    "        mat[i+1][0] = mat[i][0] + mat[i+1][0]\n",
    "    for j in range(cols-1):\n",
    "        mat[0][j+1] = mat[0][j+1] + mat[0][j]\n",
    "\n",
    "    for i in range(1,cols):\n",
    "        for j in range(1,rows):\n",
    "            mat[i][j] = mat[i][j] + min(mat[i-1][j],mat[i][j-1])\n",
    "\n",
    "    return mat[-1][-1]\n",
    "\n",
    "\n",
    "mat_exemle = [[1,3,1],[1,5,1],[4,2,1]]\n",
    "\n",
    "minimumPathSum(mat_exemle)\n",
    "            "
   ]
  },
  {
   "cell_type": "code",
   "execution_count": 83,
   "metadata": {},
   "outputs": [
    {
     "name": "stdout",
     "output_type": "stream",
     "text": [
      "[15, 11, 6]\n",
      "[12, 11, 9]\n"
     ]
    },
    {
     "data": {
      "text/plain": [
       "12"
      ]
     },
     "execution_count": 83,
     "metadata": {},
     "output_type": "execute_result"
    }
   ],
   "source": [
    "def minPathSum(grid):\n",
    "    rows, cols = len(grid), len(grid[0])\n",
    "\n",
    "    for i in range(rows-1,-1,-1):\n",
    "        for j in range(cols-1,-1,-1):\n",
    "            if j == cols-1 and i == rows-1:\n",
    "                continue\n",
    "            elif j == cols-1:\n",
    "                grid[-1][j] = grid[i][j] + grid[-1][j]\n",
    "            elif i == rows-1 and j < cols-1:\n",
    "                grid[-1][j] = grid[i][j] + grid[-1][j+1]\n",
    "            else :\n",
    "                grid[-1][j] = grid[i][j] + min(grid[-1][j],grid[-1][j+1])\n",
    "        print(grid[-1])\n",
    "\n",
    "    return grid[-1][0]\n",
    "\n",
    "grid = [[1,2,3],[4,5,6]]\n",
    "minPathSum(grid)"
   ]
  },
  {
   "cell_type": "code",
   "execution_count": 100,
   "metadata": {},
   "outputs": [
    {
     "name": "stdout",
     "output_type": "stream",
     "text": [
      "before sort [2, 1, 0, 2, 1, 0, 2, 0, 2]\n",
      "after sort [0, 0, 0, 1, 1, 2, 2, 2, 2]\n"
     ]
    }
   ],
   "source": [
    "import random\n",
    "\n",
    "def sortColors(nums):\n",
    "\n",
    "    l,r = 0, len(nums)-1\n",
    "    i = 0 \n",
    "\n",
    "    while i <= r:\n",
    "        if nums[i] == 0:\n",
    "            nums[l],nums[i] = nums[i], nums[l]\n",
    "            l+= 1\n",
    "        elif nums[i] == 2:\n",
    "            nums[r],nums[i] = nums[i], nums[r]\n",
    "            r -= 1\n",
    "            i -= 1\n",
    "        i += 1\n",
    "\n",
    "    return\n",
    "\n",
    "\n",
    "exemple = [ random.randint(0,2) for i in range(9)]\n",
    "print(\"before sort\", exemple)\n",
    "sortColors(exemple)\n",
    "print(\"after sort\", exemple)"
   ]
  },
  {
   "cell_type": "code",
   "execution_count": 111,
   "metadata": {},
   "outputs": [
    {
     "name": "stdout",
     "output_type": "stream",
     "text": [
      "0 0\n",
      "3 1\n",
      "6 2\n"
     ]
    },
    {
     "data": {
      "text/plain": [
       "True"
      ]
     },
     "execution_count": 111,
     "metadata": {},
     "output_type": "execute_result"
    }
   ],
   "source": [
    "\n"
   ]
  },
  {
   "cell_type": "code",
   "execution_count": null,
   "metadata": {},
   "outputs": [],
   "source": [
    "def MaximumRemovable(s,p,removable):\n",
    "    def isSubseq(s,p):\n",
    "        i1,i2 = 0,0\n",
    "        while i1 < len(s) and i2 < len(p):\n",
    "            if s[i1] == p[i2] and i1 not in removed:\n",
    "                i2 += 1\n",
    "            i1 += 1\n",
    "            if i2 == len(p):\n",
    "                return True\n",
    "        return False\n",
    "    \n",
    "    # Binary search on removable\n",
    "    l,r = 0, len(removable)-1\n",
    "    while l <= r:\n",
    "        m = (l+r)//2\n",
    "        removed = set(removable[:m])\n",
    "        if isSubseq(s,p):\n",
    "            l = m + 1\n",
    "        else:\n",
    "            r = m -1\n",
    "\n",
    "    return m\n"
   ]
  },
  {
   "cell_type": "code",
   "execution_count": 146,
   "metadata": {},
   "outputs": [
    {
     "name": "stdout",
     "output_type": "stream",
     "text": [
      "0\n",
      "1\n",
      "2\n",
      "3\n",
      "4\n",
      "5\n",
      "6\n",
      "7\n"
     ]
    },
    {
     "data": {
      "text/plain": [
       "536"
      ]
     },
     "execution_count": 146,
     "metadata": {},
     "output_type": "execute_result"
    }
   ],
   "source": [
    "def maxCardPoints(cardPoints,k):\n",
    "    l,r = 0, len(cardPoints)-k\n",
    "    total = sum(cardPoints[r:])\n",
    "    res = total\n",
    "\n",
    "    while l < k:\n",
    "        total += (cardPoints[l] - cardPoints[r])\n",
    "        res = max(res,total)\n",
    "        l += 1\n",
    "        r += 1\n",
    "    return res\n",
    "\n",
    "\n",
    "nums = [96,90,41,82,39,74,64,50,30]\n",
    "k = 8\n",
    "maxCardPoints(nums,k)\n"
   ]
  },
  {
   "cell_type": "code",
   "execution_count": 196,
   "metadata": {},
   "outputs": [
    {
     "data": {
      "text/plain": [
       "8"
      ]
     },
     "execution_count": 196,
     "metadata": {},
     "output_type": "execute_result"
    }
   ],
   "source": [
    "def coinChange(coins,amount):\n",
    "    # first the recursive solution with the cache\n",
    "\n",
    "    cache = {}\n",
    "\n",
    "    def dfs(index,curramount):\n",
    "        if curramount > amount:\n",
    "            return 0\n",
    "        if (index,curramount) in cache:\n",
    "            return cache[(index,curramount)]\n",
    "        if index == len(coins):\n",
    "            return 0\n",
    "        if curramount == amount:\n",
    "            return 1\n",
    "        # print(cache)\n",
    "        cache[(index,curramount)] = dfs(index, curramount + coins[index]) + dfs(index+ 1,curramount)\n",
    "        return cache[(index,curramount)]\n",
    "\n",
    "    return dfs(0,0)\n",
    "\n",
    "    \n",
    "coins = [1,2,5]\n",
    "amount = 9\n",
    "coinChange(coins,amount)"
   ]
  },
  {
   "cell_type": "code",
   "execution_count": 199,
   "metadata": {},
   "outputs": [
    {
     "name": "stdout",
     "output_type": "stream",
     "text": [
      "[1, 1, 1, 1]\n",
      "[1, 0, 0, 0]\n",
      "[2, 1, 0, 0]\n",
      "[2, 0, 0, 0]\n",
      "[3, 1, 0, 0]\n",
      "[4, 1, 1, 0]\n",
      "[5, 1, 0, 0]\n",
      "[6, 1, 0, 0]\n",
      "[7, 1, 0, 0]\n"
     ]
    },
    {
     "data": {
      "text/plain": [
       "8"
      ]
     },
     "execution_count": 199,
     "metadata": {},
     "output_type": "execute_result"
    }
   ],
   "source": [
    "def coinChangedp(coins,amount):\n",
    "    dp = [[0]*(len(coins)+1) for i in range(amount+1)]\n",
    "    dp[0] = [1]*(len(coins)+1)\n",
    "\n",
    "    for a in range(1,amount+1):\n",
    "        for i in range(len(coins)-1,-1,-1):\n",
    "            dp[a][i] = dp[a][i+1]\n",
    "            if a - coins[i] >= 0:\n",
    "                dp[a][i] += dp[a - coins[i]][i]\n",
    "    for ele in dp[:-1]:\n",
    "        print(ele)\n",
    "    return dp[amount][0]\n",
    "\n",
    "coinChangedp(coins,amount)"
   ]
  },
  {
   "cell_type": "code",
   "execution_count": 205,
   "metadata": {},
   "outputs": [
    {
     "name": "stdout",
     "output_type": "stream",
     "text": [
      "[1, 0, 0, 0, 0, 0, 0, 0, 0, 0]\n",
      "[1, 1, 1, 1, 1, 1, 1, 1, 1, 1]\n",
      "[1, 1, 2, 2, 3, 3, 4, 4, 5, 5]\n",
      "[1, 1, 2, 2, 3, 4, 5, 6, 7, 8]\n"
     ]
    },
    {
     "data": {
      "text/plain": [
       "8"
      ]
     },
     "execution_count": 205,
     "metadata": {},
     "output_type": "execute_result"
    }
   ],
   "source": [
    "def coinchangedpopt(coins, amount):\n",
    "    dp=[0]*(amount+1)\n",
    "    dp[0] = 1\n",
    "    print(dp)\n",
    "    for coin in coins:\n",
    "        for i in range(1, amount+1):\n",
    "                if i - coin >=0:\n",
    "                    dp[i] += dp[i-coin]\n",
    "        print(dp)\n",
    "    return dp[-1]\n",
    "\n",
    "coinchangedpopt(coins,amount)"
   ]
  },
  {
   "cell_type": "code",
   "execution_count": 211,
   "metadata": {},
   "outputs": [
    {
     "name": "stdout",
     "output_type": "stream",
     "text": [
      "2 10\n",
      "4 5\n",
      "16 2\n",
      "256 1\n"
     ]
    },
    {
     "data": {
      "text/plain": [
       "1024"
      ]
     },
     "execution_count": 211,
     "metadata": {},
     "output_type": "execute_result"
    }
   ],
   "source": [
    "def myPow(x,n):\n",
    "    def helper(x,n):\n",
    "        print(x,n)\n",
    "        if n == 0: return 1\n",
    "        if n == 1: return x\n",
    "        if x == 0: return 0\n",
    "        res = helper(x*x,n//2)\n",
    "        # print(res)\n",
    "        return x*res if n%2 else res\n",
    "    return helper(x,n)\n",
    "\n",
    "myPow(2,10)\n"
   ]
  },
  {
   "cell_type": "code",
   "execution_count": 217,
   "metadata": {},
   "outputs": [
    {
     "data": {
      "text/plain": [
       "[[1, 0], [1, 1], [0, 1], [-1, 1], [-1, 0], [-1, -1], [0, -1], [1, -1]]"
      ]
     },
     "execution_count": 217,
     "metadata": {},
     "output_type": "execute_result"
    }
   ],
   "source": [
    "import math\n",
    "directions = [[round(math.cos(math.pi / 4 * k)), round(math.sin(math.pi / 4 * k))] for k in range(8)]\n",
    "directions"
   ]
  },
  {
   "cell_type": "code",
   "execution_count": 230,
   "metadata": {},
   "outputs": [
    {
     "name": "stdout",
     "output_type": "stream",
     "text": [
      "left 011 ['0', '1', '1'] 2\n",
      "right 011 ['0', '1', '1'] 1\n",
      "left 011 ['0', '1', '1'] 0\n"
     ]
    },
    {
     "data": {
      "text/plain": [
       "'011'"
      ]
     },
     "execution_count": 230,
     "metadata": {},
     "output_type": "execute_result"
    }
   ],
   "source": [
    "def findBinaryStrings(nums):\n",
    "\n",
    "    mySet = {s for s in nums}\n",
    "\n",
    "    def backtrack(i,cur):\n",
    "        if i == len(nums):\n",
    "            res = \"\".join(cur)\n",
    "            return None if res in mySet else res\n",
    "        \n",
    "        res = backtrack(i+1,cur)\n",
    "        if res:\n",
    "            print(\"left\",res,cur,i) \n",
    "            return res\n",
    "\n",
    "        cur[i] = \"1\"\n",
    "        res = backtrack(i+1,cur)\n",
    "        if res: \n",
    "            print(\"right\",res,cur,i)\n",
    "            return res\n",
    "\n",
    "    return backtrack(0, [\"0\" for s in range(len(nums))])\n",
    "\n",
    "nums = [\"001\",\"000\",\"110\"]\n",
    "findBinaryStrings(nums)"
   ]
  },
  {
   "cell_type": "code",
   "execution_count": 269,
   "metadata": {},
   "outputs": [
    {
     "data": {
      "text/plain": [
       "4"
      ]
     },
     "execution_count": 269,
     "metadata": {},
     "output_type": "execute_result"
    }
   ],
   "source": [
    "def minCostconnectPoints(points):\n",
    "    visited = set()\n",
    "    to_visit = [[float(\"inf\"),i] for i in range(1,len(points))]\n",
    "    elements = 0\n",
    "    res = 0\n",
    "    for i in range(len(points)-1):\n",
    "        visited.add(elements)\n",
    "        for point in to_visit:\n",
    "            old_dist,ele = point[0],point[1]\n",
    "            new_dist = abs(points[elements][0]-points[ele][0]) + abs(points[elements][1]-points[ele][1])\n",
    "            if new_dist < old_dist:\n",
    "                point[0] = new_dist\n",
    "        heapq.heapify(to_visit)\n",
    "        dist,elements = heapq.heappop(to_visit)\n",
    "        res += dist\n",
    "    return res\n",
    "\n",
    "\n",
    "points = [[0,0],[1,1],[1,0],[-1,1]]\n",
    "minCostconnectPoints(points)\n"
   ]
  },
  {
   "cell_type": "code",
   "execution_count": 280,
   "metadata": {},
   "outputs": [],
   "source": [
    "def solution(A, F, M):\n",
    "    stack = []\n",
    "    def backtrack(total, i):\n",
    "        if total == 0 and i == 0:\n",
    "            return stack[:]\n",
    "        if total < 0 or i < 0:\n",
    "            return\n",
    "        \n",
    "        avg = total//i\n",
    "        for num in range(avg, 7):\n",
    "            stack.append(num)\n",
    "            res = backtrack(total - num, i - 1)\n",
    "            if res:\n",
    "                print(res)\n",
    "                return res\n",
    "            stack.pop()\n",
    "\n",
    "    def is_possible(A, M, F):\n",
    "        tot1 = sum(A)\n",
    "        N = len(A) + F\n",
    "        tot2 = M*N - tot1 \n",
    "        if tot2 > 6 * F:\n",
    "            return False\n",
    "        res = backtrack(tot2, F)\n",
    "        if res: \n",
    "            return res\n",
    "        else: \n",
    "            return False\n",
    "\n",
    "    return is_possible(A,M,F)\n"
   ]
  },
  {
   "cell_type": "code",
   "execution_count": 282,
   "metadata": {},
   "outputs": [
    {
     "data": {
      "text/plain": [
       "False"
      ]
     },
     "execution_count": 282,
     "metadata": {},
     "output_type": "execute_result"
    }
   ],
   "source": [
    "A = [1, 2, 3, 4]\n",
    "F = 4\n",
    "M = 6\n",
    "\n",
    "solution(A,F,M)"
   ]
  },
  {
   "cell_type": "code",
   "execution_count": 331,
   "metadata": {},
   "outputs": [],
   "source": [
    "def solution(A, X, Y, Z):\n",
    "    station = [[\"X\",X,0],[\"Y\",Y,0],[\"Z\",Z,0]]\n",
    "    time = 0\n",
    "    def is_possible_fill(car,station,now=False):\n",
    "        for ele in station:\n",
    "            if ele[1] >= car:\n",
    "                if not now:\n",
    "                    return True\n",
    "                else:\n",
    "                    if ele[2] == 0:\n",
    "                        return True\n",
    "        return False\n",
    "\n",
    "    while A and is_possible_fill(A[0],station):\n",
    "        i = 0\n",
    "        while not is_possible_fill(A[0],station,now = True):\n",
    "            time_to_wait = sorted([sublist[2] for sublist in station])[i]\n",
    "            i += 1\n",
    "            time += time_to_wait\n",
    "            for ele in station:\n",
    "                ele[2] -= time_to_wait\n",
    "                ele[2] = max(0,ele[2])\n",
    "        \n",
    "        while A and  is_possible_fill(A[0],station,now = True):\n",
    "            car = A.pop(0)\n",
    "            for ele in station:\n",
    "                if ele[1] >= car and ele[2] == 0:\n",
    "                    ele[1] -= car\n",
    "                    ele[2] += car\n",
    "                    break\n",
    "        \n",
    "    if len(A) == 0:\n",
    "        return time\n",
    "    else:\n",
    "        return -1"
   ]
  },
  {
   "cell_type": "code",
   "execution_count": 332,
   "metadata": {},
   "outputs": [
    {
     "data": {
      "text/plain": [
       "8"
      ]
     },
     "execution_count": 332,
     "metadata": {},
     "output_type": "execute_result"
    }
   ],
   "source": [
    "exemple = ([2, 8, 4, 3, 2], 7, 11, 3)\n",
    "solution(*exemple)"
   ]
  },
  {
   "cell_type": "code",
   "execution_count": 354,
   "metadata": {},
   "outputs": [
    {
     "name": "stdout",
     "output_type": "stream",
     "text": [
      "{0: (1, 4), 1: (4, 3), 2: (3, 1), 3: (2, 1), 4: (3, 2)}\n"
     ]
    }
   ],
   "source": [
    "X =[1, 4, 3, 2, 3]\n",
    "Y =[4, 3, 1, 1, 2]\n",
    "dico = {i:point for i,point in enumerate(zip(X,Y))}\n",
    "\n",
    "print(dico)"
   ]
  },
  {
   "cell_type": "code",
   "execution_count": 358,
   "metadata": {},
   "outputs": [
    {
     "data": {
      "text/plain": [
       "True"
      ]
     },
     "execution_count": 358,
     "metadata": {},
     "output_type": "execute_result"
    }
   ],
   "source": [
    "def is_outside(triplet,point):\n",
    "        x, y = point\n",
    "        x1, y1 = triplet[0]\n",
    "        x2, y2 = triplet[1]\n",
    "        x3, y3 = triplet[2]\n",
    "        side_1 = (x - x2) * (y1 - y2) - (x1 - x2) * (y - y2)\n",
    "        side_2 = (x - x3) * (y2 - y3) - (x2 - x3) * (y - y3)\n",
    "        side_3 = (x - x1) * (y3 - y1) - (x3 - x1) * (y - y1)\n",
    "        area = abs((x1*(y2 - y3) + x2*(y3 - y1) + x3*(y1 - y2)))\n",
    "        return not (side_1 < 0.0) == (side_2 < 0.0) == (side_3 < 0.0) and not area == 0\n",
    "\n",
    "is_outside([dico[0],dico[1],dico[3]],dico[4])"
   ]
  },
  {
   "cell_type": "code",
   "execution_count": 511,
   "metadata": {},
   "outputs": [
    {
     "name": "stdout",
     "output_type": "stream",
     "text": [
      "1 2 1 2\n"
     ]
    }
   ],
   "source": [
    "X = (1,2)\n",
    "print(*X,*X)"
   ]
  },
  {
   "cell_type": "code",
   "execution_count": 528,
   "metadata": {},
   "outputs": [],
   "source": [
    "from itertools import combinations, permutations\n",
    "\n",
    "def solution(X, Y):\n",
    "    def area(x1,y1,x2,y2,x3,y3):\n",
    "        return abs((x1*(y2 - y3) + x2*(y3 - y1) + x3*(y1 - y2)))\n",
    "    def is_outside(triplet,point):\n",
    "        x, y = point\n",
    "        x1, y1 = triplet[0]\n",
    "        x2, y2 = triplet[1]\n",
    "        x3, y3 = triplet[2]\n",
    "        side_1 = (x - x2) * (y1 - y2) - (x1 - x2) * (y - y2)\n",
    "        side_2 = (x - x3) * (y2 - y3) - (x2 - x3) * (y - y3)\n",
    "        side_3 = (x - x1) * (y3 - y1) - (x3 - x1) * (y - y1)\n",
    "        tri_area = abs((x1*(y2 - y3) + x2*(y3 - y1) + x3*(y1 - y2)))\n",
    "\n",
    "        if tri_area == 0:\n",
    "            return False\n",
    "        to_check = list(combinations([0,1,2],2))\n",
    "        for a,b in to_check:\n",
    "            x1,y1 = triplet[a]\n",
    "            x2,y2 = triplet[b]\n",
    "            if area(x1,y1,x2,y2,x,y) == 0 and min(x1,x2)<=x<=max(x1,x2) and min(y1,y2)<=y<=max(y1,y2):\n",
    "                return False\n",
    "        return not (side_1 < 0.0) == (side_2 < 0.0) == (side_3 < 0.0)\n",
    "\n",
    "    dico = {i:point for i,point in enumerate(zip(X,Y))}\n",
    "    \n",
    "    triangles = list(combinations([i for i in range(len(X))], 3))    \n",
    "\n",
    "    for triangle in triangles:\n",
    "        p1, p2, p3 = triangle\n",
    "        valid_triangle = True\n",
    "        for point_index, point_coords in dico.items():\n",
    "            if point_index not in triangle:  # skip the triangle points themselves\n",
    "                if not is_outside([dico[p1], dico[p2], dico[p3]], point_coords):\n",
    "                    valid_triangle = False\n",
    "                    break\n",
    "        if valid_triangle:\n",
    "            return (dico[p1], dico[p2], dico[p3])\n",
    "\n",
    "    return []"
   ]
  },
  {
   "cell_type": "code",
   "execution_count": 530,
   "metadata": {},
   "outputs": [],
   "source": [
    "import matplotlib.pyplot as plt\n",
    "from itertools import combinations\n",
    "\n",
    "def plot_triangle(x_coords, y_coords):\n",
    "    # Scatter plot all points\n",
    "    plt.figure(figsize=(8, 6))\n",
    "    plt.scatter(x_coords, y_coords, color='blue', label='Points')\n",
    "    plt.xlabel('X Coordinate')\n",
    "    plt.ylabel('Y Coordinate')\n",
    "    plt.title('Scatter Plot of Points')\n",
    "    plt.grid(True)\n",
    "        \n",
    "    # Find a triangle without any other points inside it\n",
    "    triangle = solution(x_coords,y_coords)\n",
    "    \n",
    "    if triangle:\n",
    "        # Plot the triangle as a line plot\n",
    "        triangle_x = [point[0] for point in triangle]\n",
    "        triangle_y = [point[1] for point in triangle]\n",
    "        triangle_x.append(triangle_x[0])  # closing the loop\n",
    "        triangle_y.append(triangle_y[0])  # closing the loop\n",
    "        \n",
    "        plt.plot(triangle_x, triangle_y, color='red', marker='o', linestyle='-', linewidth=2, markersize=8)\n",
    "        plt.scatter(triangle_x[:-1], triangle_y[:-1], color='red', label='Triangle Vertices')\n",
    "        plt.legend()\n",
    "    \n",
    "    plt.show()"
   ]
  },
  {
   "cell_type": "code",
   "execution_count": 572,
   "metadata": {},
   "outputs": [
    {
     "data": {
      "image/png": "[encoded data removed]",
      "text/plain": [
       "<Figure size 800x600 with 1 Axes>"
      ]
     },
     "metadata": {},
     "output_type": "display_data"
    }
   ],
   "source": [
    "import numpy as np\n",
    "def generate_random_points(num_points, range_min, range_max):\n",
    "    x_coords = np.random.randint(range_min, range_max, num_points)\n",
    "    y_coords = np.random.randint(range_min, range_max, num_points)\n",
    "    return x_coords, y_coords\n",
    "\n",
    "# Generate 10 random points with coordinates ranging from 0 to 10\n",
    "x_coords, y_coords = generate_random_points(20, 0, 4)\n",
    "\n",
    "plot_triangle(x_coords,y_coords)"
   ]
  },
  {
   "cell_type": "code",
   "execution_count": 535,
   "metadata": {},
   "outputs": [
    {
     "name": "stdout",
     "output_type": "stream",
     "text": [
      "[2 2 1 0 0 1 2 1 0 0 3 2 1 2 2 3 1 1 0 3]\n",
      "[0 0 0 2 1 3 2 3 1 2 1 1 2 2 1 0 2 2 3 2]\n"
     ]
    }
   ],
   "source": [
    "print(x_coords)\n",
    "print(y_coords)"
   ]
  },
  {
   "cell_type": "code",
   "execution_count": 479,
   "metadata": {},
   "outputs": [],
   "source": [
    "from collections import Counter\n",
    "def plot_points_with_duplicates(x_coords, y_coords):\n",
    "    points = list(zip(x_coords, y_coords))\n",
    "    point_counts = Counter(points)\n",
    "    \n",
    "    colors = {1: 'blue', 2: 'green', 3: 'red'}\n",
    "    color_list = [colors[min(point_counts[p], 3)] for p in points]\n",
    "\n",
    "    plt.figure(figsize=(8, 6))\n",
    "    plt.scatter(x_coords, y_coords, c=color_list, s=100, edgecolors='black', alpha=0.7)\n",
    "\n",
    "    plt.xlabel('X Coordinate')\n",
    "    plt.ylabel('Y Coordinate')\n",
    "    plt.title('Scatter Plot of Points with Duplicate Counts')\n",
    "    plt.grid(True)\n",
    "    plt.show()"
   ]
  },
  {
   "cell_type": "code",
   "execution_count": 573,
   "metadata": {},
   "outputs": [
    {
     "data": {
      "image/png": "[encoded data removed]",
      "text/plain": [
       "<Figure size 800x600 with 1 Axes>"
      ]
     },
     "metadata": {},
     "output_type": "display_data"
    }
   ],
   "source": [
    "plot_points_with_duplicates(x_coords,y_coords)"
   ]
  }
 ],
 "metadata": {
  "kernelspec": {
   "display_name": "Python 3",
   "language": "python",
   "name": "python3"
  },
  "language_info": {
   "codemirror_mode": {
    "name": "ipython",
    "version": 3
   },
   "file_extension": ".py",
   "mimetype": "text/x-python",
   "name": "python",
   "nbconvert_exporter": "python",
   "pygments_lexer": "ipython3",
   "version": "3.10.8"
  }
 },
 "nbformat": 4,
 "nbformat_minor": 2
}
