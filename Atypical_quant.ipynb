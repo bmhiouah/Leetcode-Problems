{
 "cells": [
  {
   "cell_type": "code",
   "execution_count": 4,
   "metadata": {},
   "outputs": [],
   "source": [
    "import numpy as np\n",
    "import matplotlib.pyplot as plt\n",
    "import math"
   ]
  },
  {
   "cell_type": "code",
   "execution_count": 9,
   "metadata": {},
   "outputs": [
    {
     "data": {
      "text/plain": [
       "('1', '2', '3', '4', '5', '6', '7', '8', '9')"
      ]
     },
     "execution_count": 9,
     "metadata": {},
     "output_type": "execute_result"
    }
   ],
   "source": [
    "import itertools\n",
    "\n",
    "\n",
    "my_number = \"123456789\"\n",
    "\n",
    "\n",
    "itertools.permutations(my_number)\n",
    "\n",
    "math.factorial(9)\n",
    "\n",
    "elligible_numbers = list(itertools.permutations(my_number, 9))\n",
    "\n",
    "\n",
    "# compute all the permutations of the number 123456789 \n",
    "\n",
    "\n",
    "\n",
    "\n",
    "elligible_numbers\n",
    "\n",
    "elligible_numbers[0]\n",
    "\n",
    "\n"
   ]
  },
  {
   "cell_type": "code",
   "execution_count": 18,
   "metadata": {},
   "outputs": [
    {
     "data": {
      "text/plain": [
       "array([ 3.2840978, 75.9719026])"
      ]
     },
     "execution_count": 18,
     "metadata": {},
     "output_type": "execute_result"
    }
   ],
   "source": [
    "import random\n",
    "random.seed(42)\n",
    "\n",
    "def initialize_noodles(count):\n",
    "    bowl = { \"circles\" : {}, \"segments\" : {i : 1 for i in range(1, count +1)}}\n",
    "    return bowl\n",
    "\n",
    "def select_noodle(bowl):\n",
    "    noodle_ends = list(bowl[\"segments\"].keys()) * 2\n",
    "    select_ends = random.sample(noodle_ends, 2)\n",
    "    return select_ends\n",
    "\n",
    "def connect_noodles(bowl, ends):\n",
    "    if ends[0] == ends[1]:\n",
    "        bowl[\"circles\"][ends[0]] = bowl[\"segments\"][ends[0]]\n",
    "        del bowl[\"segments\"][ends[0]]\n",
    "    else:\n",
    "        bowl[\"segments\"][f\"{ends[0]} {ends[1]}\"] = (bowl[\"segments\"][ends[0]] + bowl[\"segments\"][ends[1]])            \n",
    "        del bowl[\"segments\"][ends[0]], bowl[\"segments\"][ends[1]]\n",
    "    return bowl\n",
    "\n",
    "\n",
    "def sim_game(count):\n",
    "    bowl = initialize_noodles(count)\n",
    "    for i in range(count):\n",
    "        ends = select_noodle(bowl)\n",
    "        bowl = connect_noodles(bowl, ends)\n",
    "    return (len(bowl[\"circles\"].keys()), max(bowl[\"circles\"].values()))\n",
    "\n",
    "np.mean([sim_game(100) for i in range(10**7)], axis=0)"
   ]
  },
  {
   "cell_type": "code",
   "execution_count": 48,
   "metadata": {},
   "outputs": [
    {
     "name": "stdout",
     "output_type": "stream",
     "text": [
      "518.2385850889625\n"
     ]
    },
    {
     "data": {
      "text/plain": [
       "9.965784284662087"
      ]
     },
     "execution_count": 48,
     "metadata": {},
     "output_type": "execute_result"
    }
   ],
   "source": [
    "no_distinct_coupons = 100\n",
    "length_array = []\n",
    "coupons = range(no_distinct_coupons)\n",
    "\n",
    "\n",
    "# import sympy\n",
    "from sympy import *\n",
    "  \n",
    "# Using sympy.S.EulerGamma value\n",
    "gfg = S.EulerGamma.n(20)\n",
    "\n",
    "for i in range(int(10**2)):\n",
    "\tcoupons_gathered = set()\n",
    "\tlength = 0\n",
    "\t\n",
    "\twhile len(coupons_gathered)<no_distinct_coupons:\n",
    "\t\tcurrent_coupon = random.choice(coupons)\n",
    "\t\tcoupons_gathered.update([current_coupon])\n",
    "\t\tlength+=1\n",
    "\n",
    "\tlength_array.append(length)\n",
    "\n",
    "\n",
    "print(100*(math.log(100) + float(gfg)))\n",
    "np.mean(length_array)"
   ]
  },
  {
   "cell_type": "code",
   "execution_count": 2,
   "metadata": {},
   "outputs": [],
   "source": [
    "import random"
   ]
  },
  {
   "cell_type": "code",
   "execution_count": 7,
   "metadata": {},
   "outputs": [
    {
     "name": "stdout",
     "output_type": "stream",
     "text": [
      "[-0.99592217  0.76225794  1.64168548 ...  0.88197858  1.67528564\n",
      "  0.86995022]\n",
      "50.04%\n",
      "Probability (A): 50.04%\n",
      "Probability (B): 12.46%\n"
     ]
    }
   ],
   "source": [
    "import numpy as np\n",
    " \n",
    "s = 10**6\n",
    " \n",
    "## Generate samples for A\n",
    "x_a = np.random.normal(loc=0, scale=1, size=s)\n",
    "y_a = 4*np.random.normal(loc=0, scale=1, size=s)\n",
    "\n",
    "print(x_a)\n",
    "## Generate samples for B\n",
    "x_b = np.random.uniform(low=0, high=1, size=s)\n",
    "y_b = 4*np.random.uniform(low=0, high=1, size=s)\n",
    "\n",
    "## Compute observed probabilities\n",
    "p_a = '{:.2%}'.format(np.mean(x_a>y_a))\n",
    "p_b = '{:.2%}'.format(np.mean(x_b>y_b))\n",
    "print(p_a)\n",
    "\n",
    "## Print results\n",
    "print(f'Probability (A): {p_a}')\n",
    "print(f'Probability (B): {p_b}')\n",
    "\n"
   ]
  },
  {
   "attachments": {},
   "cell_type": "markdown",
   "metadata": {},
   "source": [
    "# LES ANTS ET LE CARRÉ"
   ]
  },
  {
   "cell_type": "code",
   "execution_count": 1,
   "metadata": {},
   "outputs": [],
   "source": [
    "import random\n",
    "from collections import defaultdict"
   ]
  },
  {
   "cell_type": "code",
   "execution_count": 70,
   "metadata": {},
   "outputs": [
    {
     "name": "stdout",
     "output_type": "stream",
     "text": [
      "{3: 0.0128403, 0: 0.7500435, 1: 0.1842505, 2: 0.0476509, 6: 0.0003276, 7: 0.0001007, 5: 0.0010802, 4: 0.0036624, 8: 3.11e-05, 9: 8.8e-06, 10: 2.2e-06, 11: 1.1e-06, 12: 4e-07, 14: 1e-07, 13: 2e-07}\n",
      "0.24995650000000003\n"
     ]
    }
   ],
   "source": [
    "# create a function that give 1 with probability 1/2 and 0 with probability 1/2 for 4 times\n",
    "\n",
    "def new_ant():\n",
    "    ant_direction = [random.randint(0,1) for i in range(4)]\n",
    "    ant_position = {0:0, 1:1, 2:2, 3:3}\n",
    "    return ant_direction, ant_position\n",
    "\n",
    "def ant_move(ant_direction, ant_position):\n",
    "    for i in range(4):\n",
    "        if ant_direction[i] == 0:\n",
    "            if random.random() < 0.7:\n",
    "                ant_position[i] = (ant_position[i] + 1) % 4\n",
    "            else:\n",
    "                ant_position[i] = (ant_position[i] - 1) % 4\n",
    "        else:\n",
    "            if random.random() < 0.7:\n",
    "                ant_position[i] = (ant_position[i] - 1) % 4\n",
    "            else:\n",
    "                ant_position[i] = (ant_position[i] + 1) % 4\n",
    "    return ant_position\n",
    "\n",
    "\n",
    "\n",
    "def simualation_game(number_of_simulations = 100):\n",
    "    record_of_moves = defaultdict(int)\n",
    "    for i in range(number_of_simulations):\n",
    "        ant_direction , ant_position = new_ant()\n",
    "        Number_of_moves = -1\n",
    "        Cross = False\n",
    "        while Cross == False:\n",
    "            new_ant_position = ant_move(ant_direction, ant_position)\n",
    "            Number_of_moves = Number_of_moves + 1\n",
    "            values = list(new_ant_position.values())\n",
    "            unique_values = set(values)\n",
    "            if len(values) > len(unique_values):\n",
    "                Cross = True\n",
    "\n",
    "        record_of_moves[Number_of_moves] = record_of_moves[Number_of_moves] + 1\n",
    "\n",
    "    return record_of_moves\n",
    "\n",
    "number_of_simulation = 10000000\n",
    "the_probability = {key : value/number_of_simulation for key, value in simualation_game(number_of_simulation).items()}\n",
    "print(the_probability)\n",
    "print(1 - the_probability[0])"
   ]
  }
 ],
 "metadata": {
  "kernelspec": {
   "display_name": "base",
   "language": "python",
   "name": "python3"
  },
  "language_info": {
   "codemirror_mode": {
    "name": "ipython",
    "version": 3
   },
   "file_extension": ".py",
   "mimetype": "text/x-python",
   "name": "python",
   "nbconvert_exporter": "python",
   "pygments_lexer": "ipython3",
   "version": "3.9.13"
  },
  "orig_nbformat": 4
 },
 "nbformat": 4,
 "nbformat_minor": 2
}
