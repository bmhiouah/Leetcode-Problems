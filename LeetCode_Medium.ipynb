{
 "cells": [
  {
   "cell_type": "code",
   "execution_count": 108,
   "metadata": {},
   "outputs": [],
   "source": [
    "import numpy as np"
   ]
  },
  {
   "cell_type": "markdown",
   "metadata": {},
   "source": [
    "# 1. Find first and last index of sorted array"
   ]
  },
  {
   "cell_type": "code",
   "execution_count": 14,
   "metadata": {},
   "outputs": [
    {
     "name": "stdout",
     "output_type": "stream",
     "text": [
      "[-8, -7, -7, -7, -6, -3, 1, 5, 8, 10]\n"
     ]
    }
   ],
   "source": [
    "exemple = sorted(np.random.randint(-10,11,size = 10))\n",
    "\n",
    "print(exemple)"
   ]
  },
  {
   "cell_type": "code",
   "execution_count": 61,
   "metadata": {},
   "outputs": [
    {
     "name": "stdout",
     "output_type": "stream",
     "text": [
      "[-1, -1] 5 [-10, -9, -5, -4, -3, -2, -2, 4, 4, 7]\n",
      "[-1, -1] 5 [-7, -6, -5, -5, -5, 1, 3, 4, 7, 9]\n",
      "[-1, -1] -5 [-6, -6, -4, -1, 2, 3, 4, 6, 7, 10]\n",
      "[-1, -1] 8 [-8, -5, -1, 2, 4, 4, 7, 7, 9, 9]\n",
      "[5, 6] 0 [-9, -6, -5, -3, -1, 0, 0, 5, 8, 10]\n",
      "[-1, -1] -4 [-10, -8, -8, -7, -7, -5, 0, 4, 6, 8]\n",
      "[-1, -1] -6 [-9, -9, -7, -4, -3, -2, -1, 1, 3, 4]\n",
      "[-1, -1] 0 [-5, -3, -1, -1, 1, 1, 2, 4, 6, 9]\n",
      "[-1, -1] 11 [-8, -6, -5, -4, -3, 1, 2, 5, 7, 10]\n",
      "[3, 3] -4 [-9, -6, -5, -4, -3, 3, 4, 8, 10, 10]\n"
     ]
    }
   ],
   "source": [
    "# find first and last index of -7 with binary search\n",
    "\n",
    "def find_first(arr, target):\n",
    "    if arr[0] == target:\n",
    "        return 0\n",
    "    l,r = 0, len(arr)-1\n",
    "    while l <= r:\n",
    "        mid = (l+r)//2\n",
    "        if arr[mid] == target and arr[mid-1] < target:\n",
    "            return mid\n",
    "        elif arr[mid] < target:\n",
    "            l = mid + 1\n",
    "        else:\n",
    "            r = mid - 1\n",
    "    return -1\n",
    "\n",
    "def find_end(arr,target):\n",
    "    if arr[-1] == target:\n",
    "        return len(arr)-1\n",
    "    l,r = 0, len(arr)-1\n",
    "    while l <= r:\n",
    "        mid = (l+r)//2\n",
    "        if arr[mid] == target and arr[mid+1] > target:\n",
    "            return mid\n",
    "        elif arr[mid] > target:\n",
    "            r = mid - 1\n",
    "        else:\n",
    "            l = mid + 1\n",
    "    return -1\n",
    "    \n",
    "\n",
    "def find_first_end(arr,target):\n",
    "    if len(arr) == 0 \\\n",
    "        or arr[-1] < target \\\n",
    "        or arr[0] > target:\n",
    "        return [-1, -1]\n",
    "    first = find_first(arr,target)\n",
    "    end = find_end(arr,target)\n",
    "    return [first,end]\n",
    "\n",
    "\n",
    "for i in range(10):\n",
    "    exemple = sorted(np.random.randint(-10,11,size = 10))\n",
    "    A = np.random.choice(exemple) + 1\n",
    "    print(find_first_end(exemple,A),A,exemple)"
   ]
  },
  {
   "cell_type": "markdown",
   "metadata": {},
   "source": [
    "# 2. Number of islands"
   ]
  },
  {
   "cell_type": "code",
   "execution_count": null,
   "metadata": {},
   "outputs": [],
   "source": [
    "import collections\n",
    "\n",
    "class Solution:\n",
    "\n",
    "    def number_of_islands(self, grid: list[list[str]]) -> int:\n",
    "        if not grid:\n",
    "            return 0\n",
    "        \n",
    "        row, col = len(grid), len(grid[0])\n",
    "        visited = set()\n",
    "        islands = 0\n",
    "\n",
    "\n",
    "        def bfs(r,c):\n",
    "            q = collections.deque()\n",
    "            q.append((r,c))\n",
    "            visited.add((r,c))\n",
    "\n",
    "            while q:\n",
    "                r,c = q.popleft()\n",
    "                directions = [[0,1],[1,0],[-1,0],[0,-1]]\n",
    "                for drx, dry in directions:\n",
    "                    r,c = r + drx, c+dry\n",
    "                    if (r in range(row) and \n",
    "                       c in range(col) and \n",
    "                       grid[r][c] == '1' and \n",
    "                       (r,c) not in visited):\n",
    "                        q.append((r,c))\n",
    "                        visited.append((r,c))\n",
    "\n",
    "        for i in range(row):\n",
    "            for j in range(col):\n",
    "                if (i,j) not in visited and grid[i][j] == '1':\n",
    "                    bfs(i,j)\n",
    "                    islands += 1\n",
    "\n",
    "        return islands"
   ]
  },
  {
   "cell_type": "markdown",
   "metadata": {},
   "source": [
    "# 3. Container with most water"
   ]
  },
  {
   "cell_type": "code",
   "execution_count": 7,
   "metadata": {},
   "outputs": [
    {
     "data": {
      "text/plain": [
       "56"
      ]
     },
     "execution_count": 7,
     "metadata": {},
     "output_type": "execute_result"
    }
   ],
   "source": [
    "def max_area(height : list[int]) -> int:\n",
    "\n",
    "    l,r = 0, len(height)-1\n",
    "    max_area = 0\n",
    "\n",
    "    while l < r:\n",
    "        cur = min(height[l],height[r])*(r-l)\n",
    "        max_area = max(max_area,cur)\n",
    "        if height[l] <= height[r]:\n",
    "            l += 1\n",
    "        else:\n",
    "            r -= 1\n",
    "    return max_area\n",
    "\n",
    "\n",
    "\n",
    "exemple = [1,8,6,2,5,4,100,18,3,7]\n",
    "\n",
    "max_area(exemple)"
   ]
  },
  {
   "cell_type": "markdown",
   "metadata": {},
   "source": [
    "# 4. Letter combinations of a phone number"
   ]
  },
  {
   "cell_type": "code",
   "execution_count": 10,
   "metadata": {},
   "outputs": [
    {
     "data": {
      "text/plain": [
       "['ad', 'ae', 'af', 'bd', 'be', 'bf', 'cd', 'ce', 'cf']"
      ]
     },
     "execution_count": 10,
     "metadata": {},
     "output_type": "execute_result"
    }
   ],
   "source": [
    "def letter_combinations(digits:str):\n",
    "    res = []\n",
    "    digits_to_char = {\"2\":\"abc\",\"3\":\"def\"}\n",
    "\n",
    "    def backtrack(i,curstr):\n",
    "        if len(curstr) == len(digits):\n",
    "            res.append(curstr)\n",
    "            return\n",
    "\n",
    "        for ele in digits_to_char[digits[i]]:\n",
    "            backtrack(i+1, curstr + ele)\n",
    "\n",
    "    if digits:\n",
    "        backtrack(0,\"\")\n",
    "\n",
    "    return res\n",
    "\n",
    "exemple = \"23\"\n",
    "\n",
    "letter_combinations(exemple)"
   ]
  },
  {
   "cell_type": "markdown",
   "metadata": {},
   "source": [
    "# 5. Word Search"
   ]
  },
  {
   "cell_type": "code",
   "execution_count": 19,
   "metadata": {},
   "outputs": [],
   "source": [
    "def exist(board : list[list[str]], word : str) -> bool:\n",
    "\n",
    "    row, col = len(board), len(board[0])\n",
    "    path = set()\n",
    "\n",
    "    def dfs(r,c,i):\n",
    "        if i == len(word):\n",
    "            return True\n",
    "        \n",
    "        if (r not in range(row) or c not in range(col) or (r,c) in path or board[r][c] != word[i]):\n",
    "            return False\n",
    "        \n",
    "        path.add((r,c))\n",
    "\n",
    "        res = (dfs(r+1,c,i+1) or\n",
    "        dfs(r,c+1,i+1) or \n",
    "        dfs(r-1,c,i+1) or\n",
    "        dfs(r,c-1,i+1))\n",
    "\n",
    "        path.remove((r,c))\n",
    "\n",
    "        return res\n",
    "\n",
    "    \n",
    "    for r in range(row):\n",
    "        for c in range(col):\n",
    "            if dfs(r,c,0):\n",
    "                return True\n",
    "    \n",
    "    return False"
   ]
  },
  {
   "cell_type": "code",
   "execution_count": 31,
   "metadata": {},
   "outputs": [],
   "source": [
    "a = \"ABCE\"\n",
    "b = \"SFCS\"\n",
    "c = \"ADEE\"\n",
    "l = [a,b,c]\n",
    "l = [list(ele) for ele in l]\n",
    "l\n",
    "\n",
    "word = \"ESEEDASFC\""
   ]
  },
  {
   "cell_type": "code",
   "execution_count": 32,
   "metadata": {},
   "outputs": [
    {
     "data": {
      "text/plain": [
       "True"
      ]
     },
     "execution_count": 32,
     "metadata": {},
     "output_type": "execute_result"
    }
   ],
   "source": [
    "exist(board=l,word=word)"
   ]
  },
  {
   "cell_type": "markdown",
   "metadata": {},
   "source": [
    "# 6. SUBSETS"
   ]
  },
  {
   "cell_type": "code",
   "execution_count": 36,
   "metadata": {},
   "outputs": [
    {
     "data": {
      "text/plain": [
       "[[1, 2, 3], [1, 2], [1, 3], [1], [2, 3], [2], [3], []]"
      ]
     },
     "execution_count": 36,
     "metadata": {},
     "output_type": "execute_result"
    }
   ],
   "source": [
    "def subset(MY_LIST):\n",
    "\n",
    "    res = []\n",
    "    stack = []\n",
    "\n",
    "    def backtrack(n):\n",
    "        if n == len(MY_LIST):\n",
    "            res.append(stack[:])\n",
    "            return\n",
    "\n",
    "        stack.append(MY_LIST[n])\n",
    "        backtrack(n+1)\n",
    "        stack.pop()\n",
    "        backtrack(n+1)\n",
    "\n",
    "        return\n",
    "    \n",
    "    backtrack(0)\n",
    "\n",
    "    return res\n",
    "\n",
    "subset([1,2,3])"
   ]
  },
  {
   "cell_type": "markdown",
   "metadata": {},
   "source": [
    "# 7. Combination Sum"
   ]
  },
  {
   "cell_type": "code",
   "execution_count": 43,
   "metadata": {},
   "outputs": [
    {
     "data": {
      "text/plain": [
       "[[2, 2, 2, 3], [2, 3, 4], [2, 7], [3, 3, 3], [3, 6]]"
      ]
     },
     "execution_count": 43,
     "metadata": {},
     "output_type": "execute_result"
    }
   ],
   "source": [
    "def combination_sum(candidate, target):\n",
    "    res = []\n",
    "\n",
    "    def dfs(i,cur,total):\n",
    "        if total == target:\n",
    "            res.append(cur[:])\n",
    "            return\n",
    "\n",
    "        if i >= len(candidate) or total > target:\n",
    "            return\n",
    "        \n",
    "        cur.append(candidate[i])\n",
    "        dfs(i,cur, total+ candidate[i])\n",
    "        cur.pop()\n",
    "        dfs(i+1,cur, total ) \n",
    "\n",
    "        return\n",
    "    dfs(0,[],0)\n",
    "\n",
    "    return res\n",
    "\n",
    "\n",
    "candidate = [2,3,4,6,7]\n",
    "target = 9\n",
    "\n",
    "combination_sum(candidate,target)\n"
   ]
  },
  {
   "cell_type": "markdown",
   "metadata": {},
   "source": [
    "# 8. Permutation II"
   ]
  },
  {
   "cell_type": "code",
   "execution_count": 45,
   "metadata": {},
   "outputs": [
    {
     "data": {
      "text/plain": [
       "[[1, 1, 2], [1, 2, 1], [2, 1, 1]]"
      ]
     },
     "execution_count": 45,
     "metadata": {},
     "output_type": "execute_result"
    }
   ],
   "source": [
    "# unique permutation with list with non unique values\n",
    "from collections import Counter\n",
    "\n",
    "def permuteUnique(my_list):\n",
    "\n",
    "    res = []\n",
    "    count = Counter(my_list)\n",
    "    perm = []\n",
    "\n",
    "    def dfs():\n",
    "        if len(perm) == len(my_list):\n",
    "            res.append(perm[:])\n",
    "            return\n",
    "        \n",
    "        for n in count:\n",
    "            if count[n] > 0:\n",
    "                perm.append(n)\n",
    "                count[n] -= 1\n",
    "\n",
    "                dfs()\n",
    "\n",
    "                perm.pop()\n",
    "                count[n] += 1\n",
    "        return\n",
    "    \n",
    "    dfs()\n",
    "    return res\n",
    "\n",
    "permuteUnique([1,1,2])"
   ]
  },
  {
   "cell_type": "markdown",
   "metadata": {},
   "source": [
    "# 9. Longest Common Subsequence"
   ]
  },
  {
   "cell_type": "code",
   "execution_count": 53,
   "metadata": {},
   "outputs": [
    {
     "data": {
      "text/plain": [
       "4"
      ]
     },
     "execution_count": 53,
     "metadata": {},
     "output_type": "execute_result"
    }
   ],
   "source": [
    "def LongestCommonSub(str1, str2):\n",
    "    a, b = len(str1), len(str2)\n",
    "\n",
    "    dp = [[0 for i in range(b + 1)] for j in  range(a+ 1)]\n",
    "\n",
    "    for i in range(a-1,-1,-1):\n",
    "        for j in range(b-1,-1,-1):\n",
    "            if str1[i] == str2[j]:\n",
    "                dp[i][j] = 1 + dp[i+1][j+1]\n",
    "            else:\n",
    "                dp[i][j] = max(dp[i+1][j], dp[i][j+1])\n",
    "\n",
    "\n",
    "    return dp[0][0]\n",
    "\n",
    "\n",
    "LongestCommonSub(\"abcde\", \"acde\")\n"
   ]
  },
  {
   "cell_type": "markdown",
   "metadata": {},
   "source": [
    "# 10. Course Schedule"
   ]
  },
  {
   "cell_type": "code",
   "execution_count": 58,
   "metadata": {},
   "outputs": [
    {
     "data": {
      "text/plain": [
       "[6, 3, 4, 2, 1, 0, 5]"
      ]
     },
     "execution_count": 58,
     "metadata": {},
     "output_type": "execute_result"
    }
   ],
   "source": [
    "def findOrder(numCourses:int, prerequ: list[list[int]]):    \n",
    "\n",
    "    crs_pre = {i:[] for i in range(numCourses)}\n",
    "    for crs, pre in prerequ:\n",
    "        crs_pre[crs].append(pre)\n",
    "\n",
    "    output = []\n",
    "    visit, cycle = set(), set()\n",
    "\n",
    "    def dfs(crs):\n",
    "        if crs in cycle:\n",
    "            return False\n",
    "        if crs in visit:\n",
    "            return True\n",
    "        \n",
    "        cycle.add(crs)\n",
    "        for ele in crs_pre[crs]:\n",
    "            if dfs(ele) == False:\n",
    "                return False\n",
    "            \n",
    "        cycle.remove(crs)\n",
    "        visit.add(crs)\n",
    "        output.append(crs)\n",
    "\n",
    "        return True\n",
    "    \n",
    "    for ele in range(numCourses):\n",
    "        if not dfs(ele):\n",
    "            return []\n",
    "        \n",
    "    return output\n",
    "    \n",
    "\n",
    "num1 = 7\n",
    "\n",
    "graph = [[0,1],[2,6],[1,2],[2,4],[4,3]]\n",
    "\n",
    "findOrder(num1,graph)"
   ]
  },
  {
   "cell_type": "markdown",
   "metadata": {},
   "source": [
    "# 11. Character Replacement"
   ]
  },
  {
   "cell_type": "code",
   "execution_count": 70,
   "metadata": {},
   "outputs": [
    {
     "data": {
      "text/plain": [
       "3"
      ]
     },
     "execution_count": 70,
     "metadata": {},
     "output_type": "execute_result"
    }
   ],
   "source": [
    "def character_replacement(s, k):\n",
    "\n",
    "    count = {}\n",
    "\n",
    "    l = 0\n",
    "    res = 0\n",
    "    maxf = 0\n",
    "    for r in range(len(s)):\n",
    "        count[s[r]] = 1 + count.get(s[r],0)\n",
    "        maxf = max(maxf, count[s[r]])\n",
    "\n",
    "\n",
    "        while r-l+1 - maxf > k:\n",
    "            count[s[l]] -= 1\n",
    "            l+= 1\n",
    "\n",
    "        res = max(res, r-l+1)\n",
    "\n",
    "    return res\n",
    "\n",
    "\n",
    "\n",
    "s = \"ABCDAECB\"\n",
    "character_replacement(s,2)"
   ]
  },
  {
   "cell_type": "markdown",
   "metadata": {},
   "source": [
    "# 12. Jump Game"
   ]
  },
  {
   "cell_type": "code",
   "execution_count": 81,
   "metadata": {},
   "outputs": [
    {
     "data": {
      "text/plain": [
       "True"
      ]
     },
     "execution_count": 81,
     "metadata": {},
     "output_type": "execute_result"
    }
   ],
   "source": [
    "def can_jump(nums):\n",
    "\n",
    "    goal = len(nums)-1\n",
    "\n",
    "    for j in range(len(nums)-1,-1,-1):\n",
    "        if nums[j] + j >= goal:\n",
    "            goal = j \n",
    "    \n",
    "    return goal == 0\n",
    "\n",
    "\n",
    "can_jump([2,3,1,2,0,3,0,4])"
   ]
  },
  {
   "cell_type": "markdown",
   "metadata": {},
   "source": [
    "# 13. Validate Binary Search Tree"
   ]
  },
  {
   "cell_type": "code",
   "execution_count": 84,
   "metadata": {},
   "outputs": [
    {
     "name": "stdout",
     "output_type": "stream",
     "text": [
      "Root: 1\n",
      "  L--- 2\n",
      "    L--- 4\n",
      "    R--- 5\n",
      "  R--- 3\n",
      "    L--- 6\n",
      "\n"
     ]
    }
   ],
   "source": [
    "class Node:\n",
    "    def __init__(self, value: int):\n",
    "        self.value = value\n",
    "        self.left = None\n",
    "        self.right = None\n",
    "\n",
    "    def add_left(self, child_node):\n",
    "        self.left = child_node\n",
    "\n",
    "    def add_right(self, child_node):\n",
    "        self.right = child_node\n",
    "\n",
    "    def __repr__(self, level=0, prefix=\"Root: \"):\n",
    "        ret = \"  \" * level + prefix + str(self.value) + \"\\n\"\n",
    "        if self.left is not None:\n",
    "            ret += self.left.__repr__(level + 1, \"L--- \")\n",
    "        if self.right is not None:\n",
    "            ret += self.right.__repr__(level + 1, \"R--- \")\n",
    "        return ret\n",
    "\n",
    "class BinaryTree:\n",
    "    def __init__(self, root_value: int):\n",
    "        self.root = Node(root_value)\n",
    "\n",
    "    def __repr__(self):\n",
    "        return repr(self.root)\n",
    "\n",
    "# Exemple d'utilisation\n",
    "if __name__ == \"__main__\":\n",
    "    tree = BinaryTree(1)\n",
    "    left_child = Node(2)\n",
    "    right_child = Node(3)\n",
    "    left_left_grandchild = Node(4)\n",
    "    left_right_grandchild = Node(5)\n",
    "    right_left_grandchild = Node(6)\n",
    "\n",
    "    tree.root.add_left(left_child)\n",
    "    tree.root.add_right(right_child)\n",
    "    left_child.add_left(left_left_grandchild)\n",
    "    left_child.add_right(left_right_grandchild)\n",
    "    right_child.add_left(right_left_grandchild)\n",
    "\n",
    "    print(tree)\n"
   ]
  },
  {
   "cell_type": "code",
   "execution_count": 101,
   "metadata": {},
   "outputs": [],
   "source": [
    "# Fonction pour insérer un nœud dans un BST\n",
    "def insert(root, value):\n",
    "    if root is None:\n",
    "        return Node(value)\n",
    "    else:\n",
    "        if value < root.value:\n",
    "            if root.left is None:\n",
    "                root.add_left(Node(value))\n",
    "            else:\n",
    "                insert(root.left, value)\n",
    "        elif value > root.value:\n",
    "            if root.right is None:\n",
    "                root.add_right(Node(value))\n",
    "            else:\n",
    "                insert(root.right, value)\n",
    "    return root\n",
    "\n",
    "# Exemple d'utilisation pour créer un arbre binaire de recherche\n",
    "\n",
    "# Création de l'arbre binaire de recherche avec la valeur racine 10\n",
    "bst = BinaryTree(10)\n",
    "\n",
    "# Insertion des autres valeurs dans l'arbre\n",
    "values_to_insert = [5, 15, 2, 7, 12, 20]\n",
    "for value in values_to_insert:\n",
    "    insert(bst.root, value)"
   ]
  },
  {
   "cell_type": "code",
   "execution_count": 114,
   "metadata": {},
   "outputs": [
    {
     "name": "stdout",
     "output_type": "stream",
     "text": [
      "Root: 10\n",
      "  L--- 2\n",
      "  R--- 100\n",
      "    L--- 92\n",
      "      L--- 73\n",
      "        L--- 65\n",
      "          L--- 37\n",
      "            L--- 14\n",
      "          R--- 67\n",
      "            R--- 71\n",
      "        R--- 77\n",
      "\n",
      "Root: 10\n",
      "  R--- 100\n",
      "    L--- 89\n",
      "      L--- 58\n",
      "        L--- 46\n",
      "          L--- 19\n",
      "        R--- 62\n",
      "          L--- 60\n",
      "          R--- 73\n",
      "      R--- 90\n",
      "\n",
      "True\n"
     ]
    }
   ],
   "source": [
    "def valid_binary_tree(tree):\n",
    "\n",
    "    def valid_node(node,left,right):\n",
    "        if not node:\n",
    "            return True\n",
    "\n",
    "        if node.value < left or node.value > right:\n",
    "            return False\n",
    "        \n",
    "        return (valid_node(node.left,left,node.value) and valid_node(node.right,node.value,right))\n",
    "    \n",
    "    return valid_node(tree.root,float(\"-inf\"),float(\"+inf\"))\n",
    "\n",
    "test = True\n",
    "for i in range(10):        \n",
    "    # Créer un tableau de 10 entiers aléatoires uniques compris entre 1 et 100\n",
    "    random_array = np.random.choice(range(1, 101), size=10, replace=False).tolist()\n",
    "    bst = BinaryTree(10)\n",
    "    for value in random_array:\n",
    "        insert(bst.root, value)\n",
    "\n",
    "    print(bst) if i%5 == 0 else None\n",
    "    test = test and valid_binary_tree(bst)\n",
    "print(test)"
   ]
  },
  {
   "cell_type": "markdown",
   "metadata": {},
   "source": [
    "# 14. Palindrome Partitioning"
   ]
  },
  {
   "cell_type": "code",
   "execution_count": 125,
   "metadata": {},
   "outputs": [
    {
     "data": {
      "text/plain": [
       "[['a', 'a', 'b', 'c', 'd', 'e', 'd'],\n",
       " ['a', 'a', 'b', 'c', 'ded'],\n",
       " ['aa', 'b', 'c', 'd', 'e', 'd'],\n",
       " ['aa', 'b', 'c', 'ded']]"
      ]
     },
     "execution_count": 125,
     "metadata": {},
     "output_type": "execute_result"
    }
   ],
   "source": [
    "def partition(s:str) -> list[list[str]]:\n",
    "\n",
    "    def ispalin(s,i,j):\n",
    "        while i < j:\n",
    "            if s[i] != s[j]:\n",
    "                return False\n",
    "            i += 1\n",
    "            j -= 1\n",
    "        return True\n",
    "    \n",
    "    res = []\n",
    "    part = []\n",
    "\n",
    "    def dfs(i):\n",
    "        if i == len(s):\n",
    "            res.append(part[:])\n",
    "            return\n",
    "        \n",
    "        for j in range(i,len(s)):\n",
    "            if ispalin(s,i,j):\n",
    "                part.append(s[i:j+1])\n",
    "                dfs(j+1)\n",
    "                part.pop()\n",
    "        return\n",
    "    \n",
    "    dfs(0)\n",
    "    return res\n",
    "\n",
    "\n",
    "partition(\"aabcded\")"
   ]
  },
  {
   "cell_type": "code",
   "execution_count": 22,
   "metadata": {},
   "outputs": [
    {
     "name": "stdout",
     "output_type": "stream",
     "text": [
      "Before Modification:  1 -> 2 -> 3 -> 4 -> 5 -> 6\n",
      "Modified list:        1 -> 2 -> 3 -> 5 -> 6\n"
     ]
    }
   ],
   "source": [
    "class ListNode:\n",
    "    def __init__(self, value=0, next=None):\n",
    "        self.value = value\n",
    "        self.next = next\n",
    "    \n",
    "    def __str__(self):\n",
    "        current = self\n",
    "        result = \"\"\n",
    "        while current:\n",
    "            result += str(current.value)\n",
    "            if current.next:\n",
    "                result += \" -> \"\n",
    "            current = current.next\n",
    "        return result\n",
    "    \n",
    "\n",
    "\n",
    "def remove_n_node_from_end(head : ListNode, n):\n",
    "    dummy = ListNode(0,head)\n",
    "    left = dummy\n",
    "    right = head\n",
    "\n",
    "    while n > 0 and right:\n",
    "        right = right.next\n",
    "        n -= 1\n",
    "\n",
    "    while right:\n",
    "        right = right.next\n",
    "        left = left.next\n",
    "    \n",
    "    left.next = left.next.next\n",
    "\n",
    "    return dummy.next\n",
    "\n",
    "# Creating linked list: 1 -> 2 -> 3 -> 4 -> None\n",
    "node6 = ListNode(6)\n",
    "node5 = ListNode(5, node6)\n",
    "node4 = ListNode(4, node5)\n",
    "node3 = ListNode(3, node4)\n",
    "node2 = ListNode(2, node3)\n",
    "node1 = ListNode(1, node2)\n",
    "\n",
    "\n",
    "print(\"Before Modification: \" ,node1)\n",
    "modified_list = remove_n_node_from_end(node1, 3)\n",
    "print(\"Modified list:       \", modified_list)"
   ]
  }
 ],
 "metadata": {
  "kernelspec": {
   "display_name": "Python 3",
   "language": "python",
   "name": "python3"
  },
  "language_info": {
   "codemirror_mode": {
    "name": "ipython",
    "version": 3
   },
   "file_extension": ".py",
   "mimetype": "text/x-python",
   "name": "python",
   "nbconvert_exporter": "python",
   "pygments_lexer": "ipython3",
   "version": "3.10.8"
  }
 },
 "nbformat": 4,
 "nbformat_minor": 2
}
